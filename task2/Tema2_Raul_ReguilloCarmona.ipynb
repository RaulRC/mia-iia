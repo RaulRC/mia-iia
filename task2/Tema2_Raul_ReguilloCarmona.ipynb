{
 "cells": [
  {
   "cell_type": "markdown",
   "metadata": {},
   "source": [
    "## Investigación en Inteligencia Artificial\n",
    "### Tarea 2:  Preparación de datos con Python\n",
    "#### Raúl Reguillo Carmona"
   ]
  },
  {
   "cell_type": "code",
   "execution_count": 1,
   "metadata": {},
   "outputs": [
    {
     "name": "stdout",
     "output_type": "stream",
     "text": [
      "3.5.2 (default, Nov 12 2018, 13:43:14) \n",
      "[GCC 5.4.0 20160609]\n"
     ]
    }
   ],
   "source": [
    "import pandas as pd\n",
    "import numpy as np\n",
    "import sys\n",
    "print(sys.version)"
   ]
  },
  {
   "cell_type": "code",
   "execution_count": 2,
   "metadata": {},
   "outputs": [
    {
     "name": "stdout",
     "output_type": "stream",
     "text": [
      "Pandas version is 0.22.0\n",
      "Numpy version is 1.14.2\n"
     ]
    }
   ],
   "source": [
    "print(\"Pandas version is %s\" % pd.__version__)\n",
    "print(\"Numpy version is %s\" % np.__version__)"
   ]
  },
  {
   "cell_type": "markdown",
   "metadata": {},
   "source": [
    "### Parte I: Familiarizarse con Python. Trabajo sobre el archivo proporcionado"
   ]
  },
  {
   "cell_type": "markdown",
   "metadata": {},
   "source": [
    "#### 1. Lectura del fichero proporcionado\n",
    "\n",
    "En primer lugar, se ha generado una carpeta ```inputs/``` donde se han dejado todos los archivos necesarios para realizar el ejercicio. "
   ]
  },
  {
   "cell_type": "code",
   "execution_count": 3,
   "metadata": {},
   "outputs": [
    {
     "data": {
      "text/plain": [
       "['inputs/FicheroALeer.txt',\n",
       " 'inputs/poblacionMunicipios.csv',\n",
       " 'inputs/CP_Municipios.csv']"
      ]
     },
     "execution_count": 3,
     "metadata": {},
     "output_type": "execute_result"
    }
   ],
   "source": [
    "import glob\n",
    "glob.glob('inputs/*')"
   ]
  },
  {
   "cell_type": "markdown",
   "metadata": {},
   "source": [
    "A continuación, leemos el fichero. Puesto que tiene caracteres especiales (tildes), de no especificar codec dará problemas en la lectura, así pues indicamos el encoding que tiene el archivo que vamos a leer. En este caso, un encoding ```ISO-8895-1``` nos permitirá leer correctamente los caracteres con tilde. Se probó inicialmente con ```utf-8```, no obstante no conseguía leer el archivo correctamente.  "
   ]
  },
  {
   "cell_type": "code",
   "execution_count": 4,
   "metadata": {},
   "outputs": [],
   "source": [
    "#Open file with (r)ead perm and that encoding. \n",
    "open_file = open (\"inputs/FicheroALeer.txt\", \"r\", encoding='ISO-8859-1')\n",
    "#Once the file is open, store the content in input_file variable\n",
    "input_file = open_file.read()\n",
    "#Finally, close file. \n",
    "open_file.close()"
   ]
  },
  {
   "cell_type": "markdown",
   "metadata": {},
   "source": [
    "Mostramos ahora los 200 primeros caracteres para comprobar que está correcto. "
   ]
  },
  {
   "cell_type": "code",
   "execution_count": 5,
   "metadata": {},
   "outputs": [
    {
     "name": "stdout",
     "output_type": "stream",
     "text": [
      "En un lugar de la Mancha, de cuyo nombre no quiero acordarme, no ha mucho\n",
      "tiempo que vivía un hidalgo de los de lanza en astillero, adarga antigua,\n",
      "rocín flaco y galgo corredor. Una olla de algo más v\n"
     ]
    }
   ],
   "source": [
    "print(input_file[:200])"
   ]
  },
  {
   "cell_type": "markdown",
   "metadata": {},
   "source": [
    "#### 2. Conteo del número de líneas del archivo"
   ]
  },
  {
   "cell_type": "markdown",
   "metadata": {},
   "source": [
    "Para evitar leer el archivo de nuevo vamos a contar líneas directamente sobre el contenido. Para ello, utilizamos la función ```split()``` que _partirá_ todo el texto en tantos fragmentos como los que queden separados al identificar el caracter ```\\n```."
   ]
  },
  {
   "cell_type": "code",
   "execution_count": 6,
   "metadata": {},
   "outputs": [
    {
     "name": "stdout",
     "output_type": "stream",
     "text": [
      "Number of lines: 101\n"
     ]
    }
   ],
   "source": [
    "all_lines = len(input_file.split('\\n'))\n",
    "print(\"Number of lines: %d\" % all_lines)"
   ]
  },
  {
   "cell_type": "markdown",
   "metadata": {},
   "source": [
    "#### 3. Ocurrencias del artículo 'el'"
   ]
  },
  {
   "cell_type": "markdown",
   "metadata": {},
   "source": [
    "Conocemos que los artículos no forman parte de ninguna subcadena siempre que estén entre dos espacios. Lo único que tenemos que controlar dada esta premisa es que todos los caracteres estén en minúscula, y buscar así por el patrón ``` el ``` (nótense los espacios antes y después el artículo). Utilizamos la función ```count()``` para saber el total. "
   ]
  },
  {
   "cell_type": "code",
   "execution_count": 7,
   "metadata": {},
   "outputs": [
    {
     "name": "stdout",
     "output_type": "stream",
     "text": [
      "Number of lines: 28\n"
     ]
    }
   ],
   "source": [
    "el_ements = input_file.lower().count(' el ')\n",
    "print(\"Number of lines: %d\" % el_ements)"
   ]
  },
  {
   "cell_type": "markdown",
   "metadata": {},
   "source": [
    "#### 4. Eliminar las tildes y convertir todas las letras a minúscula"
   ]
  },
  {
   "cell_type": "markdown",
   "metadata": {},
   "source": [
    "Sobre el texto original, podemos hacer un ```replace()``` del carácter con tilde por el carácter normal. Igualmente, pasamos todo el texto a minúscula utilizando ```lower()```. Podemos ir encadenando estas funciones para todas las vocales y tener el resultado en una sola línea. "
   ]
  },
  {
   "cell_type": "code",
   "execution_count": 8,
   "metadata": {},
   "outputs": [],
   "source": [
    "no_accents = input_file.lower().replace('á','a'\n",
    "                                       ).replace('é','e').replace('í','i').replace('ó','o').replace('ú', 'u')"
   ]
  },
  {
   "cell_type": "code",
   "execution_count": 9,
   "metadata": {},
   "outputs": [
    {
     "name": "stdout",
     "output_type": "stream",
     "text": [
      "en un lugar de la mancha, de cuyo nombre no quiero acordarme, no ha mucho\n",
      "tiempo que vivia un hidalgo de los de lanza en astillero, adarga antigua,\n",
      "rocin flaco y galgo corredor. una olla de algo mas v\n"
     ]
    }
   ],
   "source": [
    "print(no_accents[:200])"
   ]
  },
  {
   "cell_type": "markdown",
   "metadata": {},
   "source": [
    "#### 5. Crear fichero de resultado"
   ]
  },
  {
   "cell_type": "markdown",
   "metadata": {},
   "source": [
    "Abrimos el fichero de resultados con el nombre especificado, permisos de escritura y volcamos los datos solicitados en él."
   ]
  },
  {
   "cell_type": "code",
   "execution_count": 10,
   "metadata": {},
   "outputs": [
    {
     "data": {
      "text/plain": [
       "6828"
      ]
     },
     "execution_count": 10,
     "metadata": {},
     "output_type": "execute_result"
    }
   ],
   "source": [
    "res = open('outputs/resultado.txt', 'w')\n",
    "res.write('{}\\n'.format(all_lines))\n",
    "res.write('{}\\n'.format(el_ements))\n",
    "res.write(no_accents)"
   ]
  },
  {
   "cell_type": "markdown",
   "metadata": {},
   "source": [
    "Finalmente, cerramos el fichero. "
   ]
  },
  {
   "cell_type": "code",
   "execution_count": 11,
   "metadata": {},
   "outputs": [],
   "source": [
    "res.close()"
   ]
  },
  {
   "cell_type": "markdown",
   "metadata": {},
   "source": [
    "### Parte II: Trabajo con Pandas y Numpy"
   ]
  },
  {
   "cell_type": "markdown",
   "metadata": {},
   "source": [
    "#### Carga del archivo\n",
    "\n",
    "En primer lugar, cargamos el archivo utilizando ```pandas```"
   ]
  },
  {
   "cell_type": "code",
   "execution_count": 12,
   "metadata": {},
   "outputs": [],
   "source": [
    "pob = pd.read_csv(\"inputs/poblacionMunicipios.csv\")"
   ]
  },
  {
   "cell_type": "code",
   "execution_count": 13,
   "metadata": {},
   "outputs": [
    {
     "data": {
      "text/html": [
       "<div>\n",
       "<style scoped>\n",
       "    .dataframe tbody tr th:only-of-type {\n",
       "        vertical-align: middle;\n",
       "    }\n",
       "\n",
       "    .dataframe tbody tr th {\n",
       "        vertical-align: top;\n",
       "    }\n",
       "\n",
       "    .dataframe thead th {\n",
       "        text-align: right;\n",
       "    }\n",
       "</style>\n",
       "<table border=\"1\" class=\"dataframe\">\n",
       "  <thead>\n",
       "    <tr style=\"text-align: right;\">\n",
       "      <th></th>\n",
       "      <th>CodProvincia</th>\n",
       "      <th>Provincia</th>\n",
       "      <th>CodMunicipio</th>\n",
       "      <th>Municipio</th>\n",
       "      <th>Poblacion</th>\n",
       "    </tr>\n",
       "  </thead>\n",
       "  <tbody>\n",
       "    <tr>\n",
       "      <th>0</th>\n",
       "      <td>1</td>\n",
       "      <td>Araba/Álava</td>\n",
       "      <td>1</td>\n",
       "      <td>Alegría-Dulantzi</td>\n",
       "      <td>2869</td>\n",
       "    </tr>\n",
       "    <tr>\n",
       "      <th>1</th>\n",
       "      <td>1</td>\n",
       "      <td>Araba/Álava</td>\n",
       "      <td>2</td>\n",
       "      <td>Amurrio</td>\n",
       "      <td>10114</td>\n",
       "    </tr>\n",
       "    <tr>\n",
       "      <th>2</th>\n",
       "      <td>1</td>\n",
       "      <td>Araba/Álava</td>\n",
       "      <td>3</td>\n",
       "      <td>Aramaio</td>\n",
       "      <td>1513</td>\n",
       "    </tr>\n",
       "    <tr>\n",
       "      <th>3</th>\n",
       "      <td>1</td>\n",
       "      <td>Araba/Álava</td>\n",
       "      <td>4</td>\n",
       "      <td>Artziniega</td>\n",
       "      <td>1861</td>\n",
       "    </tr>\n",
       "    <tr>\n",
       "      <th>4</th>\n",
       "      <td>1</td>\n",
       "      <td>Araba/Álava</td>\n",
       "      <td>6</td>\n",
       "      <td>Armiñón</td>\n",
       "      <td>231</td>\n",
       "    </tr>\n",
       "  </tbody>\n",
       "</table>\n",
       "</div>"
      ],
      "text/plain": [
       "   CodProvincia    Provincia  CodMunicipio         Municipio  Poblacion\n",
       "0             1  Araba/Álava             1  Alegría-Dulantzi       2869\n",
       "1             1  Araba/Álava             2           Amurrio      10114\n",
       "2             1  Araba/Álava             3           Aramaio       1513\n",
       "3             1  Araba/Álava             4        Artziniega       1861\n",
       "4             1  Araba/Álava             6           Armiñón        231"
      ]
     },
     "execution_count": 13,
     "metadata": {},
     "output_type": "execute_result"
    }
   ],
   "source": [
    "pob.head()"
   ]
  },
  {
   "cell_type": "code",
   "execution_count": 14,
   "metadata": {},
   "outputs": [
    {
     "data": {
      "text/plain": [
       "CodProvincia    8117\n",
       "Provincia       8117\n",
       "CodMunicipio    8117\n",
       "Municipio       8117\n",
       "Poblacion       8117\n",
       "dtype: int64"
      ]
     },
     "execution_count": 14,
     "metadata": {},
     "output_type": "execute_result"
    }
   ],
   "source": [
    "#Let's see how many registers does it have. \n",
    "pob.count()"
   ]
  },
  {
   "cell_type": "markdown",
   "metadata": {},
   "source": [
    "#### Eliminar filas correspondientes a municipios sin población\n",
    "\n",
    "Del resultado anterior, inferimos que para cada registro hay un valor de población. Descartamos ahora aquellos cuya población es cero. "
   ]
  },
  {
   "cell_type": "code",
   "execution_count": 15,
   "metadata": {},
   "outputs": [
    {
     "data": {
      "text/html": [
       "<div>\n",
       "<style scoped>\n",
       "    .dataframe tbody tr th:only-of-type {\n",
       "        vertical-align: middle;\n",
       "    }\n",
       "\n",
       "    .dataframe tbody tr th {\n",
       "        vertical-align: top;\n",
       "    }\n",
       "\n",
       "    .dataframe thead th {\n",
       "        text-align: right;\n",
       "    }\n",
       "</style>\n",
       "<table border=\"1\" class=\"dataframe\">\n",
       "  <thead>\n",
       "    <tr style=\"text-align: right;\">\n",
       "      <th></th>\n",
       "      <th>CodProvincia</th>\n",
       "      <th>Provincia</th>\n",
       "      <th>CodMunicipio</th>\n",
       "      <th>Municipio</th>\n",
       "      <th>Poblacion</th>\n",
       "    </tr>\n",
       "  </thead>\n",
       "  <tbody>\n",
       "    <tr>\n",
       "      <th>32</th>\n",
       "      <td>1</td>\n",
       "      <td>mentira</td>\n",
       "      <td>1</td>\n",
       "      <td>mentira</td>\n",
       "      <td>0</td>\n",
       "    </tr>\n",
       "  </tbody>\n",
       "</table>\n",
       "</div>"
      ],
      "text/plain": [
       "    CodProvincia Provincia  CodMunicipio Municipio  Poblacion\n",
       "32             1   mentira             1   mentira          0"
      ]
     },
     "execution_count": 15,
     "metadata": {},
     "output_type": "execute_result"
    }
   ],
   "source": [
    "#Just for curiosity ; ) \n",
    "pob[pob['Poblacion'] == 0]"
   ]
  },
  {
   "cell_type": "code",
   "execution_count": 16,
   "metadata": {},
   "outputs": [],
   "source": [
    "pob = pob[pob['Poblacion']!=0]"
   ]
  },
  {
   "cell_type": "code",
   "execution_count": 17,
   "metadata": {},
   "outputs": [
    {
     "data": {
      "text/html": [
       "<div>\n",
       "<style scoped>\n",
       "    .dataframe tbody tr th:only-of-type {\n",
       "        vertical-align: middle;\n",
       "    }\n",
       "\n",
       "    .dataframe tbody tr th {\n",
       "        vertical-align: top;\n",
       "    }\n",
       "\n",
       "    .dataframe thead th {\n",
       "        text-align: right;\n",
       "    }\n",
       "</style>\n",
       "<table border=\"1\" class=\"dataframe\">\n",
       "  <thead>\n",
       "    <tr style=\"text-align: right;\">\n",
       "      <th></th>\n",
       "      <th>CodProvincia</th>\n",
       "      <th>Provincia</th>\n",
       "      <th>CodMunicipio</th>\n",
       "      <th>Municipio</th>\n",
       "      <th>Poblacion</th>\n",
       "    </tr>\n",
       "  </thead>\n",
       "  <tbody>\n",
       "    <tr>\n",
       "      <th>0</th>\n",
       "      <td>1</td>\n",
       "      <td>Araba/Álava</td>\n",
       "      <td>1</td>\n",
       "      <td>Alegría-Dulantzi</td>\n",
       "      <td>2869</td>\n",
       "    </tr>\n",
       "    <tr>\n",
       "      <th>1</th>\n",
       "      <td>1</td>\n",
       "      <td>Araba/Álava</td>\n",
       "      <td>2</td>\n",
       "      <td>Amurrio</td>\n",
       "      <td>10114</td>\n",
       "    </tr>\n",
       "    <tr>\n",
       "      <th>2</th>\n",
       "      <td>1</td>\n",
       "      <td>Araba/Álava</td>\n",
       "      <td>3</td>\n",
       "      <td>Aramaio</td>\n",
       "      <td>1513</td>\n",
       "    </tr>\n",
       "    <tr>\n",
       "      <th>3</th>\n",
       "      <td>1</td>\n",
       "      <td>Araba/Álava</td>\n",
       "      <td>4</td>\n",
       "      <td>Artziniega</td>\n",
       "      <td>1861</td>\n",
       "    </tr>\n",
       "    <tr>\n",
       "      <th>4</th>\n",
       "      <td>1</td>\n",
       "      <td>Araba/Álava</td>\n",
       "      <td>6</td>\n",
       "      <td>Armiñón</td>\n",
       "      <td>231</td>\n",
       "    </tr>\n",
       "  </tbody>\n",
       "</table>\n",
       "</div>"
      ],
      "text/plain": [
       "   CodProvincia    Provincia  CodMunicipio         Municipio  Poblacion\n",
       "0             1  Araba/Álava             1  Alegría-Dulantzi       2869\n",
       "1             1  Araba/Álava             2           Amurrio      10114\n",
       "2             1  Araba/Álava             3           Aramaio       1513\n",
       "3             1  Araba/Álava             4        Artziniega       1861\n",
       "4             1  Araba/Álava             6           Armiñón        231"
      ]
     },
     "execution_count": 17,
     "metadata": {},
     "output_type": "execute_result"
    }
   ],
   "source": [
    "pob.head()"
   ]
  },
  {
   "cell_type": "code",
   "execution_count": 18,
   "metadata": {},
   "outputs": [
    {
     "data": {
      "text/plain": [
       "CodProvincia    8116\n",
       "Provincia       8116\n",
       "CodMunicipio    8116\n",
       "Municipio       8116\n",
       "Poblacion       8116\n",
       "dtype: int64"
      ]
     },
     "execution_count": 18,
     "metadata": {},
     "output_type": "execute_result"
    }
   ],
   "source": [
    "pob.count()"
   ]
  },
  {
   "cell_type": "markdown",
   "metadata": {},
   "source": [
    "Tras volver a evaluar los registros, vemos que hemos perdido un registro correspondiente a población 0. Posteriormente se comprobó que era un registro ```mentira```. "
   ]
  },
  {
   "cell_type": "markdown",
   "metadata": {},
   "source": [
    "#### Total de población de todos los municipios\n",
    "\n",
    "Este enunciado no se ha entendido muy bien, si era como el total por municipio o el total de población de todos los municipios juntos, así pues se han desarrollado ambas soluciones. "
   ]
  },
  {
   "cell_type": "code",
   "execution_count": 19,
   "metadata": {},
   "outputs": [
    {
     "data": {
      "text/html": [
       "<div>\n",
       "<style scoped>\n",
       "    .dataframe tbody tr th:only-of-type {\n",
       "        vertical-align: middle;\n",
       "    }\n",
       "\n",
       "    .dataframe tbody tr th {\n",
       "        vertical-align: top;\n",
       "    }\n",
       "\n",
       "    .dataframe thead th {\n",
       "        text-align: right;\n",
       "    }\n",
       "</style>\n",
       "<table border=\"1\" class=\"dataframe\">\n",
       "  <thead>\n",
       "    <tr style=\"text-align: right;\">\n",
       "      <th></th>\n",
       "      <th>Poblacion</th>\n",
       "    </tr>\n",
       "    <tr>\n",
       "      <th>Municipio</th>\n",
       "      <th></th>\n",
       "    </tr>\n",
       "  </thead>\n",
       "  <tbody>\n",
       "    <tr>\n",
       "      <th>Ababuj</th>\n",
       "      <td>73</td>\n",
       "    </tr>\n",
       "    <tr>\n",
       "      <th>Abades</th>\n",
       "      <td>882</td>\n",
       "    </tr>\n",
       "    <tr>\n",
       "      <th>Abadiño</th>\n",
       "      <td>7385</td>\n",
       "    </tr>\n",
       "    <tr>\n",
       "      <th>Abadía</th>\n",
       "      <td>330</td>\n",
       "    </tr>\n",
       "    <tr>\n",
       "      <th>Abadín</th>\n",
       "      <td>2760</td>\n",
       "    </tr>\n",
       "  </tbody>\n",
       "</table>\n",
       "</div>"
      ],
      "text/plain": [
       "           Poblacion\n",
       "Municipio           \n",
       "Ababuj            73\n",
       "Abades           882\n",
       "Abadiño         7385\n",
       "Abadía           330\n",
       "Abadín          2760"
      ]
     },
     "execution_count": 19,
     "metadata": {},
     "output_type": "execute_result"
    }
   ],
   "source": [
    "#Count population by town\n",
    "munic_count = pob[['Municipio','Poblacion']].groupby(['Municipio']).sum()\n",
    "munic_count.head()"
   ]
  },
  {
   "cell_type": "code",
   "execution_count": 20,
   "metadata": {},
   "outputs": [
    {
     "name": "stdout",
     "output_type": "stream",
     "text": [
      "Total population of all towns: 47265321\n"
     ]
    }
   ],
   "source": [
    "#Count total population\n",
    "print(\"Total population of all towns: {}\".format(pob['Poblacion'].sum()))"
   ]
  },
  {
   "cell_type": "markdown",
   "metadata": {},
   "source": [
    "#### Crea un DataFrame de Pandas donde la primera columna sean todas las provincias que aparecen en el archivo, la segunda columna el número total de habitantes por provincia, la tercera la desviación típica en el número total de habitantes por provincia y la cuarta el número total de municipios por provincia.\n",
    "\n",
    "Primero, ponemos en contexto el dataframe actual con ```head()```. Después de eso agrupamos por provincia y agregamos por las operaciones de suma, desviación típica y conteo. Finalmente renombramos columnas. "
   ]
  },
  {
   "cell_type": "code",
   "execution_count": 21,
   "metadata": {},
   "outputs": [
    {
     "data": {
      "text/html": [
       "<div>\n",
       "<style scoped>\n",
       "    .dataframe tbody tr th:only-of-type {\n",
       "        vertical-align: middle;\n",
       "    }\n",
       "\n",
       "    .dataframe tbody tr th {\n",
       "        vertical-align: top;\n",
       "    }\n",
       "\n",
       "    .dataframe thead th {\n",
       "        text-align: right;\n",
       "    }\n",
       "</style>\n",
       "<table border=\"1\" class=\"dataframe\">\n",
       "  <thead>\n",
       "    <tr style=\"text-align: right;\">\n",
       "      <th></th>\n",
       "      <th>CodProvincia</th>\n",
       "      <th>Provincia</th>\n",
       "      <th>CodMunicipio</th>\n",
       "      <th>Municipio</th>\n",
       "      <th>Poblacion</th>\n",
       "    </tr>\n",
       "  </thead>\n",
       "  <tbody>\n",
       "    <tr>\n",
       "      <th>0</th>\n",
       "      <td>1</td>\n",
       "      <td>Araba/Álava</td>\n",
       "      <td>1</td>\n",
       "      <td>Alegría-Dulantzi</td>\n",
       "      <td>2869</td>\n",
       "    </tr>\n",
       "    <tr>\n",
       "      <th>1</th>\n",
       "      <td>1</td>\n",
       "      <td>Araba/Álava</td>\n",
       "      <td>2</td>\n",
       "      <td>Amurrio</td>\n",
       "      <td>10114</td>\n",
       "    </tr>\n",
       "    <tr>\n",
       "      <th>2</th>\n",
       "      <td>1</td>\n",
       "      <td>Araba/Álava</td>\n",
       "      <td>3</td>\n",
       "      <td>Aramaio</td>\n",
       "      <td>1513</td>\n",
       "    </tr>\n",
       "    <tr>\n",
       "      <th>3</th>\n",
       "      <td>1</td>\n",
       "      <td>Araba/Álava</td>\n",
       "      <td>4</td>\n",
       "      <td>Artziniega</td>\n",
       "      <td>1861</td>\n",
       "    </tr>\n",
       "    <tr>\n",
       "      <th>4</th>\n",
       "      <td>1</td>\n",
       "      <td>Araba/Álava</td>\n",
       "      <td>6</td>\n",
       "      <td>Armiñón</td>\n",
       "      <td>231</td>\n",
       "    </tr>\n",
       "  </tbody>\n",
       "</table>\n",
       "</div>"
      ],
      "text/plain": [
       "   CodProvincia    Provincia  CodMunicipio         Municipio  Poblacion\n",
       "0             1  Araba/Álava             1  Alegría-Dulantzi       2869\n",
       "1             1  Araba/Álava             2           Amurrio      10114\n",
       "2             1  Araba/Álava             3           Aramaio       1513\n",
       "3             1  Araba/Álava             4        Artziniega       1861\n",
       "4             1  Araba/Álava             6           Armiñón        231"
      ]
     },
     "execution_count": 21,
     "metadata": {},
     "output_type": "execute_result"
    }
   ],
   "source": [
    "pob.head()"
   ]
  },
  {
   "cell_type": "code",
   "execution_count": 22,
   "metadata": {},
   "outputs": [],
   "source": [
    "#Groupby Provincia and then aggregate by sum, std, count. \n",
    "res_pob = pob[['Provincia', 'Poblacion', 'Municipio']].groupby('Provincia').agg(\n",
    "    ['sum', 'std', 'count']).reset_index()\n",
    "res_pob.columns = ['Provincia', 'TotalPob', 'Std', 'TotalProvs']\n"
   ]
  },
  {
   "cell_type": "code",
   "execution_count": 23,
   "metadata": {},
   "outputs": [
    {
     "data": {
      "text/html": [
       "<div>\n",
       "<style scoped>\n",
       "    .dataframe tbody tr th:only-of-type {\n",
       "        vertical-align: middle;\n",
       "    }\n",
       "\n",
       "    .dataframe tbody tr th {\n",
       "        vertical-align: top;\n",
       "    }\n",
       "\n",
       "    .dataframe thead th {\n",
       "        text-align: right;\n",
       "    }\n",
       "</style>\n",
       "<table border=\"1\" class=\"dataframe\">\n",
       "  <thead>\n",
       "    <tr style=\"text-align: right;\">\n",
       "      <th></th>\n",
       "      <th>Provincia</th>\n",
       "      <th>TotalPob</th>\n",
       "      <th>Std</th>\n",
       "      <th>TotalProvs</th>\n",
       "    </tr>\n",
       "  </thead>\n",
       "  <tbody>\n",
       "    <tr>\n",
       "      <th>0</th>\n",
       "      <td>Albacete</td>\n",
       "      <td>402837</td>\n",
       "      <td>18969.349858</td>\n",
       "      <td>87</td>\n",
       "    </tr>\n",
       "    <tr>\n",
       "      <th>1</th>\n",
       "      <td>Alicante/Alacant</td>\n",
       "      <td>1943910</td>\n",
       "      <td>36975.788257</td>\n",
       "      <td>141</td>\n",
       "    </tr>\n",
       "    <tr>\n",
       "      <th>2</th>\n",
       "      <td>Almería</td>\n",
       "      <td>704219</td>\n",
       "      <td>22487.718633</td>\n",
       "      <td>102</td>\n",
       "    </tr>\n",
       "    <tr>\n",
       "      <th>3</th>\n",
       "      <td>Araba/Álava</td>\n",
       "      <td>322557</td>\n",
       "      <td>33817.226014</td>\n",
       "      <td>51</td>\n",
       "    </tr>\n",
       "    <tr>\n",
       "      <th>4</th>\n",
       "      <td>Asturias</td>\n",
       "      <td>1077360</td>\n",
       "      <td>41147.126270</td>\n",
       "      <td>78</td>\n",
       "    </tr>\n",
       "  </tbody>\n",
       "</table>\n",
       "</div>"
      ],
      "text/plain": [
       "          Provincia  TotalPob           Std  TotalProvs\n",
       "0          Albacete    402837  18969.349858          87\n",
       "1  Alicante/Alacant   1943910  36975.788257         141\n",
       "2           Almería    704219  22487.718633         102\n",
       "3       Araba/Álava    322557  33817.226014          51\n",
       "4          Asturias   1077360  41147.126270          78"
      ]
     },
     "execution_count": 23,
     "metadata": {},
     "output_type": "execute_result"
    }
   ],
   "source": [
    "res_pob.head()"
   ]
  },
  {
   "cell_type": "markdown",
   "metadata": {},
   "source": [
    "#### Cargar CP_Municipios.csv"
   ]
  },
  {
   "cell_type": "code",
   "execution_count": 24,
   "metadata": {},
   "outputs": [],
   "source": [
    "muns = pd.read_csv(\"inputs/CP_Municipios.csv\")"
   ]
  },
  {
   "cell_type": "markdown",
   "metadata": {},
   "source": [
    "#### Empleando el código de provincia y el código de municipio, cruza los dos datasets comentados hasta el momento. El resultado final debe ser un DataFrame.\n",
    "\n",
    "En primer lugar, mostramos los dos DataFrames para ponerlos en contexto. Luego procedemos a realizar ```merge``` de ambos, considerando ```CodProvincia``` y ```CodMunicipio```. "
   ]
  },
  {
   "cell_type": "code",
   "execution_count": 25,
   "metadata": {},
   "outputs": [
    {
     "data": {
      "text/html": [
       "<div>\n",
       "<style scoped>\n",
       "    .dataframe tbody tr th:only-of-type {\n",
       "        vertical-align: middle;\n",
       "    }\n",
       "\n",
       "    .dataframe tbody tr th {\n",
       "        vertical-align: top;\n",
       "    }\n",
       "\n",
       "    .dataframe thead th {\n",
       "        text-align: right;\n",
       "    }\n",
       "</style>\n",
       "<table border=\"1\" class=\"dataframe\">\n",
       "  <thead>\n",
       "    <tr style=\"text-align: right;\">\n",
       "      <th></th>\n",
       "      <th>CodProvincia</th>\n",
       "      <th>CodMunicipio</th>\n",
       "      <th>CP</th>\n",
       "      <th>Municipio</th>\n",
       "    </tr>\n",
       "  </thead>\n",
       "  <tbody>\n",
       "    <tr>\n",
       "      <th>0</th>\n",
       "      <td>1</td>\n",
       "      <td>1</td>\n",
       "      <td>1240</td>\n",
       "      <td>Alegría-Dulantzi</td>\n",
       "    </tr>\n",
       "    <tr>\n",
       "      <th>1</th>\n",
       "      <td>1</td>\n",
       "      <td>1</td>\n",
       "      <td>1193</td>\n",
       "      <td>Alegría-Dulantzi</td>\n",
       "    </tr>\n",
       "    <tr>\n",
       "      <th>2</th>\n",
       "      <td>1</td>\n",
       "      <td>2</td>\n",
       "      <td>1450</td>\n",
       "      <td>Amurrio</td>\n",
       "    </tr>\n",
       "    <tr>\n",
       "      <th>3</th>\n",
       "      <td>1</td>\n",
       "      <td>2</td>\n",
       "      <td>1468</td>\n",
       "      <td>Amurrio</td>\n",
       "    </tr>\n",
       "    <tr>\n",
       "      <th>4</th>\n",
       "      <td>1</td>\n",
       "      <td>2</td>\n",
       "      <td>1470</td>\n",
       "      <td>Amurrio</td>\n",
       "    </tr>\n",
       "  </tbody>\n",
       "</table>\n",
       "</div>"
      ],
      "text/plain": [
       "   CodProvincia  CodMunicipio    CP         Municipio\n",
       "0             1             1  1240  Alegría-Dulantzi\n",
       "1             1             1  1193  Alegría-Dulantzi\n",
       "2             1             2  1450           Amurrio\n",
       "3             1             2  1468           Amurrio\n",
       "4             1             2  1470           Amurrio"
      ]
     },
     "execution_count": 25,
     "metadata": {},
     "output_type": "execute_result"
    }
   ],
   "source": [
    "muns.head()"
   ]
  },
  {
   "cell_type": "code",
   "execution_count": 26,
   "metadata": {},
   "outputs": [
    {
     "data": {
      "text/html": [
       "<div>\n",
       "<style scoped>\n",
       "    .dataframe tbody tr th:only-of-type {\n",
       "        vertical-align: middle;\n",
       "    }\n",
       "\n",
       "    .dataframe tbody tr th {\n",
       "        vertical-align: top;\n",
       "    }\n",
       "\n",
       "    .dataframe thead th {\n",
       "        text-align: right;\n",
       "    }\n",
       "</style>\n",
       "<table border=\"1\" class=\"dataframe\">\n",
       "  <thead>\n",
       "    <tr style=\"text-align: right;\">\n",
       "      <th></th>\n",
       "      <th>CodProvincia</th>\n",
       "      <th>Provincia</th>\n",
       "      <th>CodMunicipio</th>\n",
       "      <th>Municipio</th>\n",
       "      <th>Poblacion</th>\n",
       "    </tr>\n",
       "  </thead>\n",
       "  <tbody>\n",
       "    <tr>\n",
       "      <th>0</th>\n",
       "      <td>1</td>\n",
       "      <td>Araba/Álava</td>\n",
       "      <td>1</td>\n",
       "      <td>Alegría-Dulantzi</td>\n",
       "      <td>2869</td>\n",
       "    </tr>\n",
       "    <tr>\n",
       "      <th>1</th>\n",
       "      <td>1</td>\n",
       "      <td>Araba/Álava</td>\n",
       "      <td>2</td>\n",
       "      <td>Amurrio</td>\n",
       "      <td>10114</td>\n",
       "    </tr>\n",
       "    <tr>\n",
       "      <th>2</th>\n",
       "      <td>1</td>\n",
       "      <td>Araba/Álava</td>\n",
       "      <td>3</td>\n",
       "      <td>Aramaio</td>\n",
       "      <td>1513</td>\n",
       "    </tr>\n",
       "    <tr>\n",
       "      <th>3</th>\n",
       "      <td>1</td>\n",
       "      <td>Araba/Álava</td>\n",
       "      <td>4</td>\n",
       "      <td>Artziniega</td>\n",
       "      <td>1861</td>\n",
       "    </tr>\n",
       "    <tr>\n",
       "      <th>4</th>\n",
       "      <td>1</td>\n",
       "      <td>Araba/Álava</td>\n",
       "      <td>6</td>\n",
       "      <td>Armiñón</td>\n",
       "      <td>231</td>\n",
       "    </tr>\n",
       "  </tbody>\n",
       "</table>\n",
       "</div>"
      ],
      "text/plain": [
       "   CodProvincia    Provincia  CodMunicipio         Municipio  Poblacion\n",
       "0             1  Araba/Álava             1  Alegría-Dulantzi       2869\n",
       "1             1  Araba/Álava             2           Amurrio      10114\n",
       "2             1  Araba/Álava             3           Aramaio       1513\n",
       "3             1  Araba/Álava             4        Artziniega       1861\n",
       "4             1  Araba/Álava             6           Armiñón        231"
      ]
     },
     "execution_count": 26,
     "metadata": {},
     "output_type": "execute_result"
    }
   ],
   "source": [
    "pob.head()"
   ]
  },
  {
   "cell_type": "code",
   "execution_count": 27,
   "metadata": {},
   "outputs": [],
   "source": [
    "#Start with merge here:\n",
    "pob_merge = pob.merge(muns,\n",
    "                      left_on=['CodProvincia', 'CodMunicipio'], right_on=['CodProvincia', 'CodMunicipio'])\n"
   ]
  },
  {
   "cell_type": "code",
   "execution_count": 28,
   "metadata": {},
   "outputs": [
    {
     "data": {
      "text/html": [
       "<div>\n",
       "<style scoped>\n",
       "    .dataframe tbody tr th:only-of-type {\n",
       "        vertical-align: middle;\n",
       "    }\n",
       "\n",
       "    .dataframe tbody tr th {\n",
       "        vertical-align: top;\n",
       "    }\n",
       "\n",
       "    .dataframe thead th {\n",
       "        text-align: right;\n",
       "    }\n",
       "</style>\n",
       "<table border=\"1\" class=\"dataframe\">\n",
       "  <thead>\n",
       "    <tr style=\"text-align: right;\">\n",
       "      <th></th>\n",
       "      <th>CodProvincia</th>\n",
       "      <th>Provincia</th>\n",
       "      <th>CodMunicipio</th>\n",
       "      <th>Municipio_x</th>\n",
       "      <th>Poblacion</th>\n",
       "      <th>CP</th>\n",
       "      <th>Municipio_y</th>\n",
       "    </tr>\n",
       "  </thead>\n",
       "  <tbody>\n",
       "    <tr>\n",
       "      <th>0</th>\n",
       "      <td>1</td>\n",
       "      <td>Araba/Álava</td>\n",
       "      <td>1</td>\n",
       "      <td>Alegría-Dulantzi</td>\n",
       "      <td>2869</td>\n",
       "      <td>1240</td>\n",
       "      <td>Alegría-Dulantzi</td>\n",
       "    </tr>\n",
       "    <tr>\n",
       "      <th>1</th>\n",
       "      <td>1</td>\n",
       "      <td>Araba/Álava</td>\n",
       "      <td>1</td>\n",
       "      <td>Alegría-Dulantzi</td>\n",
       "      <td>2869</td>\n",
       "      <td>1193</td>\n",
       "      <td>Alegría-Dulantzi</td>\n",
       "    </tr>\n",
       "    <tr>\n",
       "      <th>2</th>\n",
       "      <td>1</td>\n",
       "      <td>Araba/Álava</td>\n",
       "      <td>2</td>\n",
       "      <td>Amurrio</td>\n",
       "      <td>10114</td>\n",
       "      <td>1450</td>\n",
       "      <td>Amurrio</td>\n",
       "    </tr>\n",
       "    <tr>\n",
       "      <th>3</th>\n",
       "      <td>1</td>\n",
       "      <td>Araba/Álava</td>\n",
       "      <td>2</td>\n",
       "      <td>Amurrio</td>\n",
       "      <td>10114</td>\n",
       "      <td>1468</td>\n",
       "      <td>Amurrio</td>\n",
       "    </tr>\n",
       "    <tr>\n",
       "      <th>4</th>\n",
       "      <td>1</td>\n",
       "      <td>Araba/Álava</td>\n",
       "      <td>2</td>\n",
       "      <td>Amurrio</td>\n",
       "      <td>10114</td>\n",
       "      <td>1470</td>\n",
       "      <td>Amurrio</td>\n",
       "    </tr>\n",
       "  </tbody>\n",
       "</table>\n",
       "</div>"
      ],
      "text/plain": [
       "   CodProvincia    Provincia  CodMunicipio       Municipio_x  Poblacion    CP  \\\n",
       "0             1  Araba/Álava             1  Alegría-Dulantzi       2869  1240   \n",
       "1             1  Araba/Álava             1  Alegría-Dulantzi       2869  1193   \n",
       "2             1  Araba/Álava             2           Amurrio      10114  1450   \n",
       "3             1  Araba/Álava             2           Amurrio      10114  1468   \n",
       "4             1  Araba/Álava             2           Amurrio      10114  1470   \n",
       "\n",
       "        Municipio_y  \n",
       "0  Alegría-Dulantzi  \n",
       "1  Alegría-Dulantzi  \n",
       "2           Amurrio  \n",
       "3           Amurrio  \n",
       "4           Amurrio  "
      ]
     },
     "execution_count": 28,
     "metadata": {},
     "output_type": "execute_result"
    }
   ],
   "source": [
    "#Print result of the merge\n",
    "pob_merge.head()"
   ]
  },
  {
   "cell_type": "code",
   "execution_count": 29,
   "metadata": {},
   "outputs": [],
   "source": [
    "#Select just needed columns and then rename\n",
    "pob_merge = pob_merge[['CodProvincia', 'Provincia', 'CodMunicipio', 'Municipio_x', 'Poblacion', 'CP']]"
   ]
  },
  {
   "cell_type": "code",
   "execution_count": 30,
   "metadata": {},
   "outputs": [],
   "source": [
    "pob_merge.columns = ['CodProvincia', 'Provincia', 'CodMunicipio', 'Municipio', 'Poblacion', 'CP']"
   ]
  },
  {
   "cell_type": "code",
   "execution_count": 31,
   "metadata": {},
   "outputs": [
    {
     "data": {
      "text/plain": [
       "CodProvincia    14716\n",
       "Provincia       14716\n",
       "CodMunicipio    14716\n",
       "Municipio       14716\n",
       "Poblacion       14716\n",
       "CP              14716\n",
       "dtype: int64"
      ]
     },
     "execution_count": 31,
     "metadata": {},
     "output_type": "execute_result"
    }
   ],
   "source": [
    "#Final result\n",
    "pob_merge.head()\n",
    "pob_merge.count()"
   ]
  },
  {
   "cell_type": "markdown",
   "metadata": {},
   "source": [
    "#### Genera un CSV llamado «faltan.csv» con todos los códigos postales que estén en «CP_Municipios.csv» pero que no tengan en «poblacionMunicipios.csv» ningún municipio con el que poder cruzar. Si todo cruza correctamente el archivo «faltan.csv» estará vacío. Se puede decir que «faltan.csv» son los códigos postales que se han perdido en el cruce a la hora de considerar la población.\n",
    "\n",
    "La estrategia a seguir será la de realizar un ```merge``` del ```DataFrame``` de CP con el de municipios, parametrizando con ```how='left'```, de esta manera mantendremos aquellos CPs que no encuentran su contrapunto en el ```DataFrame``` de municipios. Aquellos CPs que no tengan correspondencia son los que nos interesa guardar. "
   ]
  },
  {
   "cell_type": "code",
   "execution_count": 32,
   "metadata": {},
   "outputs": [
    {
     "data": {
      "text/html": [
       "<div>\n",
       "<style scoped>\n",
       "    .dataframe tbody tr th:only-of-type {\n",
       "        vertical-align: middle;\n",
       "    }\n",
       "\n",
       "    .dataframe tbody tr th {\n",
       "        vertical-align: top;\n",
       "    }\n",
       "\n",
       "    .dataframe thead th {\n",
       "        text-align: right;\n",
       "    }\n",
       "</style>\n",
       "<table border=\"1\" class=\"dataframe\">\n",
       "  <thead>\n",
       "    <tr style=\"text-align: right;\">\n",
       "      <th></th>\n",
       "      <th>CodProvincia</th>\n",
       "      <th>CodMunicipio</th>\n",
       "      <th>CP</th>\n",
       "      <th>Municipio</th>\n",
       "    </tr>\n",
       "  </thead>\n",
       "  <tbody>\n",
       "    <tr>\n",
       "      <th>0</th>\n",
       "      <td>1</td>\n",
       "      <td>1</td>\n",
       "      <td>1240</td>\n",
       "      <td>Alegría-Dulantzi</td>\n",
       "    </tr>\n",
       "    <tr>\n",
       "      <th>1</th>\n",
       "      <td>1</td>\n",
       "      <td>1</td>\n",
       "      <td>1193</td>\n",
       "      <td>Alegría-Dulantzi</td>\n",
       "    </tr>\n",
       "    <tr>\n",
       "      <th>2</th>\n",
       "      <td>1</td>\n",
       "      <td>2</td>\n",
       "      <td>1450</td>\n",
       "      <td>Amurrio</td>\n",
       "    </tr>\n",
       "    <tr>\n",
       "      <th>3</th>\n",
       "      <td>1</td>\n",
       "      <td>2</td>\n",
       "      <td>1468</td>\n",
       "      <td>Amurrio</td>\n",
       "    </tr>\n",
       "    <tr>\n",
       "      <th>4</th>\n",
       "      <td>1</td>\n",
       "      <td>2</td>\n",
       "      <td>1470</td>\n",
       "      <td>Amurrio</td>\n",
       "    </tr>\n",
       "  </tbody>\n",
       "</table>\n",
       "</div>"
      ],
      "text/plain": [
       "   CodProvincia  CodMunicipio    CP         Municipio\n",
       "0             1             1  1240  Alegría-Dulantzi\n",
       "1             1             1  1193  Alegría-Dulantzi\n",
       "2             1             2  1450           Amurrio\n",
       "3             1             2  1468           Amurrio\n",
       "4             1             2  1470           Amurrio"
      ]
     },
     "execution_count": 32,
     "metadata": {},
     "output_type": "execute_result"
    }
   ],
   "source": [
    "muns.head()"
   ]
  },
  {
   "cell_type": "code",
   "execution_count": 33,
   "metadata": {},
   "outputs": [
    {
     "data": {
      "text/html": [
       "<div>\n",
       "<style scoped>\n",
       "    .dataframe tbody tr th:only-of-type {\n",
       "        vertical-align: middle;\n",
       "    }\n",
       "\n",
       "    .dataframe tbody tr th {\n",
       "        vertical-align: top;\n",
       "    }\n",
       "\n",
       "    .dataframe thead th {\n",
       "        text-align: right;\n",
       "    }\n",
       "</style>\n",
       "<table border=\"1\" class=\"dataframe\">\n",
       "  <thead>\n",
       "    <tr style=\"text-align: right;\">\n",
       "      <th></th>\n",
       "      <th>CodProvincia</th>\n",
       "      <th>Provincia</th>\n",
       "      <th>CodMunicipio</th>\n",
       "      <th>Municipio</th>\n",
       "      <th>Poblacion</th>\n",
       "    </tr>\n",
       "  </thead>\n",
       "  <tbody>\n",
       "    <tr>\n",
       "      <th>0</th>\n",
       "      <td>1</td>\n",
       "      <td>Araba/Álava</td>\n",
       "      <td>1</td>\n",
       "      <td>Alegría-Dulantzi</td>\n",
       "      <td>2869</td>\n",
       "    </tr>\n",
       "    <tr>\n",
       "      <th>1</th>\n",
       "      <td>1</td>\n",
       "      <td>Araba/Álava</td>\n",
       "      <td>2</td>\n",
       "      <td>Amurrio</td>\n",
       "      <td>10114</td>\n",
       "    </tr>\n",
       "    <tr>\n",
       "      <th>2</th>\n",
       "      <td>1</td>\n",
       "      <td>Araba/Álava</td>\n",
       "      <td>3</td>\n",
       "      <td>Aramaio</td>\n",
       "      <td>1513</td>\n",
       "    </tr>\n",
       "    <tr>\n",
       "      <th>3</th>\n",
       "      <td>1</td>\n",
       "      <td>Araba/Álava</td>\n",
       "      <td>4</td>\n",
       "      <td>Artziniega</td>\n",
       "      <td>1861</td>\n",
       "    </tr>\n",
       "    <tr>\n",
       "      <th>4</th>\n",
       "      <td>1</td>\n",
       "      <td>Araba/Álava</td>\n",
       "      <td>6</td>\n",
       "      <td>Armiñón</td>\n",
       "      <td>231</td>\n",
       "    </tr>\n",
       "  </tbody>\n",
       "</table>\n",
       "</div>"
      ],
      "text/plain": [
       "   CodProvincia    Provincia  CodMunicipio         Municipio  Poblacion\n",
       "0             1  Araba/Álava             1  Alegría-Dulantzi       2869\n",
       "1             1  Araba/Álava             2           Amurrio      10114\n",
       "2             1  Araba/Álava             3           Aramaio       1513\n",
       "3             1  Araba/Álava             4        Artziniega       1861\n",
       "4             1  Araba/Álava             6           Armiñón        231"
      ]
     },
     "execution_count": 33,
     "metadata": {},
     "output_type": "execute_result"
    }
   ],
   "source": [
    "pob.head()"
   ]
  },
  {
   "cell_type": "code",
   "execution_count": 34,
   "metadata": {},
   "outputs": [
    {
     "data": {
      "text/html": [
       "<div>\n",
       "<style scoped>\n",
       "    .dataframe tbody tr th:only-of-type {\n",
       "        vertical-align: middle;\n",
       "    }\n",
       "\n",
       "    .dataframe tbody tr th {\n",
       "        vertical-align: top;\n",
       "    }\n",
       "\n",
       "    .dataframe thead th {\n",
       "        text-align: right;\n",
       "    }\n",
       "</style>\n",
       "<table border=\"1\" class=\"dataframe\">\n",
       "  <thead>\n",
       "    <tr style=\"text-align: right;\">\n",
       "      <th></th>\n",
       "      <th>CP</th>\n",
       "      <th>Municipio</th>\n",
       "      <th>CodProvincia</th>\n",
       "      <th>Provincia</th>\n",
       "      <th>CodMunicipio</th>\n",
       "      <th>Poblacion</th>\n",
       "    </tr>\n",
       "  </thead>\n",
       "  <tbody>\n",
       "    <tr>\n",
       "      <th>0</th>\n",
       "      <td>1240</td>\n",
       "      <td>Alegría-Dulantzi</td>\n",
       "      <td>1.0</td>\n",
       "      <td>Araba/Álava</td>\n",
       "      <td>1.0</td>\n",
       "      <td>2869.0</td>\n",
       "    </tr>\n",
       "    <tr>\n",
       "      <th>1</th>\n",
       "      <td>1193</td>\n",
       "      <td>Alegría-Dulantzi</td>\n",
       "      <td>1.0</td>\n",
       "      <td>Araba/Álava</td>\n",
       "      <td>1.0</td>\n",
       "      <td>2869.0</td>\n",
       "    </tr>\n",
       "    <tr>\n",
       "      <th>2</th>\n",
       "      <td>1450</td>\n",
       "      <td>Amurrio</td>\n",
       "      <td>1.0</td>\n",
       "      <td>Araba/Álava</td>\n",
       "      <td>2.0</td>\n",
       "      <td>10114.0</td>\n",
       "    </tr>\n",
       "    <tr>\n",
       "      <th>3</th>\n",
       "      <td>1468</td>\n",
       "      <td>Amurrio</td>\n",
       "      <td>1.0</td>\n",
       "      <td>Araba/Álava</td>\n",
       "      <td>2.0</td>\n",
       "      <td>10114.0</td>\n",
       "    </tr>\n",
       "    <tr>\n",
       "      <th>4</th>\n",
       "      <td>1470</td>\n",
       "      <td>Amurrio</td>\n",
       "      <td>1.0</td>\n",
       "      <td>Araba/Álava</td>\n",
       "      <td>2.0</td>\n",
       "      <td>10114.0</td>\n",
       "    </tr>\n",
       "    <tr>\n",
       "      <th>5</th>\n",
       "      <td>1160</td>\n",
       "      <td>Aramaio</td>\n",
       "      <td>1.0</td>\n",
       "      <td>Araba/Álava</td>\n",
       "      <td>3.0</td>\n",
       "      <td>1513.0</td>\n",
       "    </tr>\n",
       "    <tr>\n",
       "      <th>6</th>\n",
       "      <td>1165</td>\n",
       "      <td>Aramaio</td>\n",
       "      <td>1.0</td>\n",
       "      <td>Araba/Álava</td>\n",
       "      <td>3.0</td>\n",
       "      <td>1513.0</td>\n",
       "    </tr>\n",
       "    <tr>\n",
       "      <th>7</th>\n",
       "      <td>1169</td>\n",
       "      <td>Aramaio</td>\n",
       "      <td>1.0</td>\n",
       "      <td>Araba/Álava</td>\n",
       "      <td>3.0</td>\n",
       "      <td>1513.0</td>\n",
       "    </tr>\n",
       "    <tr>\n",
       "      <th>8</th>\n",
       "      <td>1474</td>\n",
       "      <td>Artziniega</td>\n",
       "      <td>1.0</td>\n",
       "      <td>Araba/Álava</td>\n",
       "      <td>4.0</td>\n",
       "      <td>1861.0</td>\n",
       "    </tr>\n",
       "    <tr>\n",
       "      <th>9</th>\n",
       "      <td>1478</td>\n",
       "      <td>Artziniega</td>\n",
       "      <td>1.0</td>\n",
       "      <td>Araba/Álava</td>\n",
       "      <td>4.0</td>\n",
       "      <td>1861.0</td>\n",
       "    </tr>\n",
       "    <tr>\n",
       "      <th>10</th>\n",
       "      <td>1211</td>\n",
       "      <td>Armiñón</td>\n",
       "      <td>1.0</td>\n",
       "      <td>Araba/Álava</td>\n",
       "      <td>6.0</td>\n",
       "      <td>231.0</td>\n",
       "    </tr>\n",
       "    <tr>\n",
       "      <th>11</th>\n",
       "      <td>1220</td>\n",
       "      <td>Armiñón</td>\n",
       "      <td>1.0</td>\n",
       "      <td>Araba/Álava</td>\n",
       "      <td>6.0</td>\n",
       "      <td>231.0</td>\n",
       "    </tr>\n",
       "    <tr>\n",
       "      <th>12</th>\n",
       "      <td>1510</td>\n",
       "      <td>Arratzua-Ubarrundia</td>\n",
       "      <td>NaN</td>\n",
       "      <td>NaN</td>\n",
       "      <td>NaN</td>\n",
       "      <td>NaN</td>\n",
       "    </tr>\n",
       "    <tr>\n",
       "      <th>13</th>\n",
       "      <td>1520</td>\n",
       "      <td>Arratzua-Ubarrundia</td>\n",
       "      <td>NaN</td>\n",
       "      <td>NaN</td>\n",
       "      <td>NaN</td>\n",
       "      <td>NaN</td>\n",
       "    </tr>\n",
       "    <tr>\n",
       "      <th>14</th>\n",
       "      <td>1250</td>\n",
       "      <td>Asparrena</td>\n",
       "      <td>1.0</td>\n",
       "      <td>Araba/Álava</td>\n",
       "      <td>9.0</td>\n",
       "      <td>1698.0</td>\n",
       "    </tr>\n",
       "    <tr>\n",
       "      <th>15</th>\n",
       "      <td>1260</td>\n",
       "      <td>Asparrena</td>\n",
       "      <td>1.0</td>\n",
       "      <td>Araba/Álava</td>\n",
       "      <td>9.0</td>\n",
       "      <td>1698.0</td>\n",
       "    </tr>\n",
       "    <tr>\n",
       "      <th>16</th>\n",
       "      <td>1208</td>\n",
       "      <td>Asparrena</td>\n",
       "      <td>1.0</td>\n",
       "      <td>Araba/Álava</td>\n",
       "      <td>9.0</td>\n",
       "      <td>1698.0</td>\n",
       "    </tr>\n",
       "    <tr>\n",
       "      <th>17</th>\n",
       "      <td>1408</td>\n",
       "      <td>Ayala/Aiara</td>\n",
       "      <td>1.0</td>\n",
       "      <td>Araba/Álava</td>\n",
       "      <td>10.0</td>\n",
       "      <td>2918.0</td>\n",
       "    </tr>\n",
       "    <tr>\n",
       "      <th>18</th>\n",
       "      <td>1470</td>\n",
       "      <td>Ayala/Aiara</td>\n",
       "      <td>1.0</td>\n",
       "      <td>Araba/Álava</td>\n",
       "      <td>10.0</td>\n",
       "      <td>2918.0</td>\n",
       "    </tr>\n",
       "    <tr>\n",
       "      <th>19</th>\n",
       "      <td>1476</td>\n",
       "      <td>Ayala/Aiara</td>\n",
       "      <td>1.0</td>\n",
       "      <td>Araba/Álava</td>\n",
       "      <td>10.0</td>\n",
       "      <td>2918.0</td>\n",
       "    </tr>\n",
       "  </tbody>\n",
       "</table>\n",
       "</div>"
      ],
      "text/plain": [
       "      CP            Municipio  CodProvincia    Provincia  CodMunicipio  \\\n",
       "0   1240     Alegría-Dulantzi           1.0  Araba/Álava           1.0   \n",
       "1   1193     Alegría-Dulantzi           1.0  Araba/Álava           1.0   \n",
       "2   1450              Amurrio           1.0  Araba/Álava           2.0   \n",
       "3   1468              Amurrio           1.0  Araba/Álava           2.0   \n",
       "4   1470              Amurrio           1.0  Araba/Álava           2.0   \n",
       "5   1160              Aramaio           1.0  Araba/Álava           3.0   \n",
       "6   1165              Aramaio           1.0  Araba/Álava           3.0   \n",
       "7   1169              Aramaio           1.0  Araba/Álava           3.0   \n",
       "8   1474           Artziniega           1.0  Araba/Álava           4.0   \n",
       "9   1478           Artziniega           1.0  Araba/Álava           4.0   \n",
       "10  1211              Armiñón           1.0  Araba/Álava           6.0   \n",
       "11  1220              Armiñón           1.0  Araba/Álava           6.0   \n",
       "12  1510  Arratzua-Ubarrundia           NaN          NaN           NaN   \n",
       "13  1520  Arratzua-Ubarrundia           NaN          NaN           NaN   \n",
       "14  1250            Asparrena           1.0  Araba/Álava           9.0   \n",
       "15  1260            Asparrena           1.0  Araba/Álava           9.0   \n",
       "16  1208            Asparrena           1.0  Araba/Álava           9.0   \n",
       "17  1408          Ayala/Aiara           1.0  Araba/Álava          10.0   \n",
       "18  1470          Ayala/Aiara           1.0  Araba/Álava          10.0   \n",
       "19  1476          Ayala/Aiara           1.0  Araba/Álava          10.0   \n",
       "\n",
       "    Poblacion  \n",
       "0      2869.0  \n",
       "1      2869.0  \n",
       "2     10114.0  \n",
       "3     10114.0  \n",
       "4     10114.0  \n",
       "5      1513.0  \n",
       "6      1513.0  \n",
       "7      1513.0  \n",
       "8      1861.0  \n",
       "9      1861.0  \n",
       "10      231.0  \n",
       "11      231.0  \n",
       "12        NaN  \n",
       "13        NaN  \n",
       "14     1698.0  \n",
       "15     1698.0  \n",
       "16     1698.0  \n",
       "17     2918.0  \n",
       "18     2918.0  \n",
       "19     2918.0  "
      ]
     },
     "execution_count": 34,
     "metadata": {},
     "output_type": "execute_result"
    }
   ],
   "source": [
    "#Merge on Municipio leftside. \n",
    "cps = muns[['CP', 'Municipio']].merge(pob, on='Municipio', how='left')\n",
    "cps.head(20)"
   ]
  },
  {
   "cell_type": "code",
   "execution_count": 35,
   "metadata": {},
   "outputs": [
    {
     "name": "stdout",
     "output_type": "stream",
     "text": [
      "Number of elements missing: 59\n"
     ]
    }
   ],
   "source": [
    "#Now, we should keep those with nulls: \n",
    "missings = cps[cps['Poblacion'].isnull()]\n",
    "print(\"Number of elements missing: {}\".format(len(missings['CP'].unique())))"
   ]
  },
  {
   "cell_type": "code",
   "execution_count": 36,
   "metadata": {},
   "outputs": [
    {
     "data": {
      "text/html": [
       "<div>\n",
       "<style scoped>\n",
       "    .dataframe tbody tr th:only-of-type {\n",
       "        vertical-align: middle;\n",
       "    }\n",
       "\n",
       "    .dataframe tbody tr th {\n",
       "        vertical-align: top;\n",
       "    }\n",
       "\n",
       "    .dataframe thead th {\n",
       "        text-align: right;\n",
       "    }\n",
       "</style>\n",
       "<table border=\"1\" class=\"dataframe\">\n",
       "  <thead>\n",
       "    <tr style=\"text-align: right;\">\n",
       "      <th></th>\n",
       "      <th>CP</th>\n",
       "      <th>Municipio</th>\n",
       "      <th>CodProvincia</th>\n",
       "      <th>Provincia</th>\n",
       "      <th>CodMunicipio</th>\n",
       "      <th>Poblacion</th>\n",
       "    </tr>\n",
       "  </thead>\n",
       "  <tbody>\n",
       "    <tr>\n",
       "      <th>12</th>\n",
       "      <td>1510</td>\n",
       "      <td>Arratzua-Ubarrundia</td>\n",
       "      <td>NaN</td>\n",
       "      <td>NaN</td>\n",
       "      <td>NaN</td>\n",
       "      <td>NaN</td>\n",
       "    </tr>\n",
       "    <tr>\n",
       "      <th>13</th>\n",
       "      <td>1520</td>\n",
       "      <td>Arratzua-Ubarrundia</td>\n",
       "      <td>NaN</td>\n",
       "      <td>NaN</td>\n",
       "      <td>NaN</td>\n",
       "      <td>NaN</td>\n",
       "    </tr>\n",
       "    <tr>\n",
       "      <th>500</th>\n",
       "      <td>3769</td>\n",
       "      <td>Ràfol d'Almúnia, El</td>\n",
       "      <td>NaN</td>\n",
       "      <td>NaN</td>\n",
       "      <td>NaN</td>\n",
       "      <td>NaN</td>\n",
       "    </tr>\n",
       "    <tr>\n",
       "      <th>1284</th>\n",
       "      <td>6186</td>\n",
       "      <td>Guadiana del Caudillo</td>\n",
       "      <td>NaN</td>\n",
       "      <td>NaN</td>\n",
       "      <td>NaN</td>\n",
       "      <td>NaN</td>\n",
       "    </tr>\n",
       "    <tr>\n",
       "      <th>1367</th>\n",
       "      <td>7600</td>\n",
       "      <td>Palma de Mallorca</td>\n",
       "      <td>NaN</td>\n",
       "      <td>NaN</td>\n",
       "      <td>NaN</td>\n",
       "      <td>NaN</td>\n",
       "    </tr>\n",
       "  </tbody>\n",
       "</table>\n",
       "</div>"
      ],
      "text/plain": [
       "        CP              Municipio  CodProvincia Provincia  CodMunicipio  \\\n",
       "12    1510    Arratzua-Ubarrundia           NaN       NaN           NaN   \n",
       "13    1520    Arratzua-Ubarrundia           NaN       NaN           NaN   \n",
       "500   3769    Ràfol d'Almúnia, El           NaN       NaN           NaN   \n",
       "1284  6186  Guadiana del Caudillo           NaN       NaN           NaN   \n",
       "1367  7600      Palma de Mallorca           NaN       NaN           NaN   \n",
       "\n",
       "      Poblacion  \n",
       "12          NaN  \n",
       "13          NaN  \n",
       "500         NaN  \n",
       "1284        NaN  \n",
       "1367        NaN  "
      ]
     },
     "execution_count": 36,
     "metadata": {},
     "output_type": "execute_result"
    }
   ],
   "source": [
    "missings.head()"
   ]
  },
  {
   "cell_type": "code",
   "execution_count": 37,
   "metadata": {},
   "outputs": [],
   "source": [
    "#Finally, we store just the CP without index\n",
    "missings['CP'].to_csv(\"outputs/faltan.csv\", index=False)"
   ]
  },
  {
   "cell_type": "markdown",
   "metadata": {},
   "source": [
    "#### Agrupa la información por código postal. Se quiere un DataFrame con las siguientes columnas:\n",
    "* Código postal.\n",
    "* Número de municipios que tienen dicho código postal asignado.\n",
    "* Población: se calculará como la suma de la población de todos los municipios que incluyen a dicho código postal.\n",
    "* Provincia: a la que está asignada el código postal.\n",
    "\n",
    "Aprovechamos el ```DataFrame``` creado en pasos anteriores: ```cps```"
   ]
  },
  {
   "cell_type": "code",
   "execution_count": 38,
   "metadata": {},
   "outputs": [
    {
     "data": {
      "text/html": [
       "<div>\n",
       "<style scoped>\n",
       "    .dataframe tbody tr th:only-of-type {\n",
       "        vertical-align: middle;\n",
       "    }\n",
       "\n",
       "    .dataframe tbody tr th {\n",
       "        vertical-align: top;\n",
       "    }\n",
       "\n",
       "    .dataframe thead th {\n",
       "        text-align: right;\n",
       "    }\n",
       "</style>\n",
       "<table border=\"1\" class=\"dataframe\">\n",
       "  <thead>\n",
       "    <tr style=\"text-align: right;\">\n",
       "      <th></th>\n",
       "      <th>CP</th>\n",
       "      <th>Municipio</th>\n",
       "      <th>CodProvincia</th>\n",
       "      <th>Provincia</th>\n",
       "      <th>CodMunicipio</th>\n",
       "      <th>Poblacion</th>\n",
       "    </tr>\n",
       "  </thead>\n",
       "  <tbody>\n",
       "    <tr>\n",
       "      <th>0</th>\n",
       "      <td>1240</td>\n",
       "      <td>Alegría-Dulantzi</td>\n",
       "      <td>1.0</td>\n",
       "      <td>Araba/Álava</td>\n",
       "      <td>1.0</td>\n",
       "      <td>2869.0</td>\n",
       "    </tr>\n",
       "    <tr>\n",
       "      <th>1</th>\n",
       "      <td>1193</td>\n",
       "      <td>Alegría-Dulantzi</td>\n",
       "      <td>1.0</td>\n",
       "      <td>Araba/Álava</td>\n",
       "      <td>1.0</td>\n",
       "      <td>2869.0</td>\n",
       "    </tr>\n",
       "    <tr>\n",
       "      <th>2</th>\n",
       "      <td>1450</td>\n",
       "      <td>Amurrio</td>\n",
       "      <td>1.0</td>\n",
       "      <td>Araba/Álava</td>\n",
       "      <td>2.0</td>\n",
       "      <td>10114.0</td>\n",
       "    </tr>\n",
       "    <tr>\n",
       "      <th>3</th>\n",
       "      <td>1468</td>\n",
       "      <td>Amurrio</td>\n",
       "      <td>1.0</td>\n",
       "      <td>Araba/Álava</td>\n",
       "      <td>2.0</td>\n",
       "      <td>10114.0</td>\n",
       "    </tr>\n",
       "    <tr>\n",
       "      <th>4</th>\n",
       "      <td>1470</td>\n",
       "      <td>Amurrio</td>\n",
       "      <td>1.0</td>\n",
       "      <td>Araba/Álava</td>\n",
       "      <td>2.0</td>\n",
       "      <td>10114.0</td>\n",
       "    </tr>\n",
       "  </tbody>\n",
       "</table>\n",
       "</div>"
      ],
      "text/plain": [
       "     CP         Municipio  CodProvincia    Provincia  CodMunicipio  Poblacion\n",
       "0  1240  Alegría-Dulantzi           1.0  Araba/Álava           1.0     2869.0\n",
       "1  1193  Alegría-Dulantzi           1.0  Araba/Álava           1.0     2869.0\n",
       "2  1450           Amurrio           1.0  Araba/Álava           2.0    10114.0\n",
       "3  1468           Amurrio           1.0  Araba/Álava           2.0    10114.0\n",
       "4  1470           Amurrio           1.0  Araba/Álava           2.0    10114.0"
      ]
     },
     "execution_count": 38,
     "metadata": {},
     "output_type": "execute_result"
    }
   ],
   "source": [
    "cps.head()"
   ]
  },
  {
   "cell_type": "markdown",
   "metadata": {},
   "source": [
    "En primer lugar, agrupamos por CP contando el número de municipios. De esta manera ya tenemos aquellos municipios que comparten CP. "
   ]
  },
  {
   "cell_type": "code",
   "execution_count": 39,
   "metadata": {},
   "outputs": [
    {
     "data": {
      "text/html": [
       "<div>\n",
       "<style scoped>\n",
       "    .dataframe tbody tr th:only-of-type {\n",
       "        vertical-align: middle;\n",
       "    }\n",
       "\n",
       "    .dataframe tbody tr th {\n",
       "        vertical-align: top;\n",
       "    }\n",
       "\n",
       "    .dataframe thead th {\n",
       "        text-align: right;\n",
       "    }\n",
       "</style>\n",
       "<table border=\"1\" class=\"dataframe\">\n",
       "  <thead>\n",
       "    <tr style=\"text-align: right;\">\n",
       "      <th></th>\n",
       "      <th>CP</th>\n",
       "      <th>Nmunicipios</th>\n",
       "    </tr>\n",
       "  </thead>\n",
       "  <tbody>\n",
       "    <tr>\n",
       "      <th>0</th>\n",
       "      <td>548</td>\n",
       "      <td>1</td>\n",
       "    </tr>\n",
       "    <tr>\n",
       "      <th>1</th>\n",
       "      <td>1001</td>\n",
       "      <td>1</td>\n",
       "    </tr>\n",
       "    <tr>\n",
       "      <th>2</th>\n",
       "      <td>1002</td>\n",
       "      <td>1</td>\n",
       "    </tr>\n",
       "    <tr>\n",
       "      <th>3</th>\n",
       "      <td>1003</td>\n",
       "      <td>1</td>\n",
       "    </tr>\n",
       "    <tr>\n",
       "      <th>4</th>\n",
       "      <td>1004</td>\n",
       "      <td>1</td>\n",
       "    </tr>\n",
       "  </tbody>\n",
       "</table>\n",
       "</div>"
      ],
      "text/plain": [
       "     CP  Nmunicipios\n",
       "0   548            1\n",
       "1  1001            1\n",
       "2  1002            1\n",
       "3  1003            1\n",
       "4  1004            1"
      ]
     },
     "execution_count": 39,
     "metadata": {},
     "output_type": "execute_result"
    }
   ],
   "source": [
    "cps_muns = cps[['CP', 'Municipio']].groupby('CP').count().reset_index()\n",
    "cps_muns.columns = ['CP', 'Nmunicipios']\n",
    "cps_muns.head()"
   ]
  },
  {
   "cell_type": "markdown",
   "metadata": {},
   "source": [
    "Contemos ahora cuántos valores distintos encontramos en ```Nmunicipios```. Guardamos en un ```DataFrame```. "
   ]
  },
  {
   "cell_type": "code",
   "execution_count": 40,
   "metadata": {},
   "outputs": [
    {
     "data": {
      "text/plain": [
       "1     8704\n",
       "2     1516\n",
       "3      452\n",
       "4      226\n",
       "5       86\n",
       "6       29\n",
       "7       16\n",
       "8        6\n",
       "9        5\n",
       "10       1\n",
       "Name: Nmunicipios, dtype: int64"
      ]
     },
     "execution_count": 40,
     "metadata": {},
     "output_type": "execute_result"
    }
   ],
   "source": [
    "cps_muns['Nmunicipios'].value_counts()"
   ]
  },
  {
   "cell_type": "markdown",
   "metadata": {},
   "source": [
    "De la misma manera, agrupamos por CP y sumamos las poblaciones que sean agrupadas por el mismo. Guardamos en otro ```DataFrame```. "
   ]
  },
  {
   "cell_type": "code",
   "execution_count": 41,
   "metadata": {},
   "outputs": [],
   "source": [
    "cps_sum = cps[['CP', 'Poblacion']].groupby('CP').sum().reset_index()\n",
    "cps_sum.columns = ['CP', 'SumPoblacion']"
   ]
  },
  {
   "cell_type": "code",
   "execution_count": 42,
   "metadata": {},
   "outputs": [
    {
     "data": {
      "text/html": [
       "<div>\n",
       "<style scoped>\n",
       "    .dataframe tbody tr th:only-of-type {\n",
       "        vertical-align: middle;\n",
       "    }\n",
       "\n",
       "    .dataframe tbody tr th {\n",
       "        vertical-align: top;\n",
       "    }\n",
       "\n",
       "    .dataframe thead th {\n",
       "        text-align: right;\n",
       "    }\n",
       "</style>\n",
       "<table border=\"1\" class=\"dataframe\">\n",
       "  <thead>\n",
       "    <tr style=\"text-align: right;\">\n",
       "      <th></th>\n",
       "      <th>CP</th>\n",
       "      <th>SumPoblacion</th>\n",
       "    </tr>\n",
       "  </thead>\n",
       "  <tbody>\n",
       "    <tr>\n",
       "      <th>0</th>\n",
       "      <td>548</td>\n",
       "      <td>5233.0</td>\n",
       "    </tr>\n",
       "    <tr>\n",
       "      <th>1</th>\n",
       "      <td>1001</td>\n",
       "      <td>242223.0</td>\n",
       "    </tr>\n",
       "    <tr>\n",
       "      <th>2</th>\n",
       "      <td>1002</td>\n",
       "      <td>242223.0</td>\n",
       "    </tr>\n",
       "    <tr>\n",
       "      <th>3</th>\n",
       "      <td>1003</td>\n",
       "      <td>242223.0</td>\n",
       "    </tr>\n",
       "    <tr>\n",
       "      <th>4</th>\n",
       "      <td>1004</td>\n",
       "      <td>242223.0</td>\n",
       "    </tr>\n",
       "  </tbody>\n",
       "</table>\n",
       "</div>"
      ],
      "text/plain": [
       "     CP  SumPoblacion\n",
       "0   548        5233.0\n",
       "1  1001      242223.0\n",
       "2  1002      242223.0\n",
       "3  1003      242223.0\n",
       "4  1004      242223.0"
      ]
     },
     "execution_count": 42,
     "metadata": {},
     "output_type": "execute_result"
    }
   ],
   "source": [
    "cps_sum.head()"
   ]
  },
  {
   "cell_type": "markdown",
   "metadata": {},
   "source": [
    "Generamos un tercer ```DataFrame``` únicamente con las provincias y el CP. "
   ]
  },
  {
   "cell_type": "code",
   "execution_count": 43,
   "metadata": {},
   "outputs": [],
   "source": [
    "cps_provs = cps[['CP', 'Provincia']]"
   ]
  },
  {
   "cell_type": "markdown",
   "metadata": {},
   "source": [
    "Finalmente mezclamos los ```DataFrame``` generados anteriormente siempre sobre CP, de esta manera obtenemos el resultado final, guardado en ```final_cps```. "
   ]
  },
  {
   "cell_type": "code",
   "execution_count": 44,
   "metadata": {},
   "outputs": [],
   "source": [
    "final_cps = cps_muns.merge(cps_sum, on='CP').merge(cps_provs, on='CP')"
   ]
  },
  {
   "cell_type": "code",
   "execution_count": 45,
   "metadata": {},
   "outputs": [
    {
     "data": {
      "text/plain": [
       "14815"
      ]
     },
     "execution_count": 45,
     "metadata": {},
     "output_type": "execute_result"
    }
   ],
   "source": [
    "final_cps.head(20)\n",
    "len(final_cps)"
   ]
  }
 ],
 "metadata": {
  "kernelspec": {
   "display_name": "Python 3",
   "language": "python",
   "name": "python3"
  },
  "language_info": {
   "codemirror_mode": {
    "name": "ipython",
    "version": 3
   },
   "file_extension": ".py",
   "mimetype": "text/x-python",
   "name": "python",
   "nbconvert_exporter": "python",
   "pygments_lexer": "ipython3",
   "version": "3.5.2"
  }
 },
 "nbformat": 4,
 "nbformat_minor": 2
}
