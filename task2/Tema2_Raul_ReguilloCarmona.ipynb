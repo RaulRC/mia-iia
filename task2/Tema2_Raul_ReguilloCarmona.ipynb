{
 "cells": [
  {
   "cell_type": "code",
   "execution_count": 126,
   "metadata": {},
   "outputs": [
    {
     "name": "stdout",
     "output_type": "stream",
     "text": [
      "3.5.2 (default, Nov 12 2018, 13:43:14) \n",
      "[GCC 5.4.0 20160609]\n"
     ]
    }
   ],
   "source": [
    "import pandas as pd\n",
    "import numpy as np\n",
    "import sys\n",
    "print(sys.version)"
   ]
  },
  {
   "cell_type": "code",
   "execution_count": 127,
   "metadata": {},
   "outputs": [
    {
     "name": "stdout",
     "output_type": "stream",
     "text": [
      "Pandas version is 0.22.0\n",
      "Numpy version is 1.14.2\n"
     ]
    }
   ],
   "source": [
    "print(\"Pandas version is %s\" % pd.__version__)\n",
    "print(\"Numpy version is %s\" % np.__version__)"
   ]
  },
  {
   "cell_type": "markdown",
   "metadata": {},
   "source": [
    "### Parte I: Familiarizarse con Python. Trabajo sobre el archivo proporcionado"
   ]
  },
  {
   "cell_type": "markdown",
   "metadata": {},
   "source": [
    "#### 1. Lectura del fichero proporcionado"
   ]
  },
  {
   "cell_type": "code",
   "execution_count": 147,
   "metadata": {},
   "outputs": [
    {
     "data": {
      "text/plain": [
       "['inputs/FicheroALeer.txt',\n",
       " 'inputs/poblacionMunicipios.csv',\n",
       " 'inputs/CP_Municipios.csv']"
      ]
     },
     "execution_count": 147,
     "metadata": {},
     "output_type": "execute_result"
    }
   ],
   "source": [
    "import glob\n",
    "glob.glob('inputs/*')"
   ]
  },
  {
   "cell_type": "code",
   "execution_count": 148,
   "metadata": {},
   "outputs": [],
   "source": [
    "open_file = open (\"inputs/FicheroALeer.txt\", \"r\", encoding='ISO-8859-1')\n",
    "input_file = open_file.read()"
   ]
  },
  {
   "cell_type": "code",
   "execution_count": 149,
   "metadata": {},
   "outputs": [
    {
     "data": {
      "text/plain": [
       "'En un lugar de la Mancha, de cuyo nombre no quiero acordarme, no ha mucho\\ntiempo que vivía un hidalgo de los de lanza en astillero, adarga antigua,\\nrocín flaco y galgo corredor. Una olla de algo más vaca que carnero,\\nsalpicón las más noches, duelos y quebrantos los sábados, lantejas los\\nviernes, algún palomino de añadidura los domingos, consumían las tres\\npartes de su hacienda. El resto della concluían sayo de velarte, calzas de\\nvelludo para las fiestas, con sus pantuflos de lo mesmo, y los días de\\nentresemana se honraba con su vellorí de lo más fino. Tenía en su casa una\\nama que pasaba de los cuarenta, y una sobrina que no llegaba a los veinte,\\ny un mozo de campo y plaza, que así ensillaba el rocín como tomaba la\\npodadera. Frisaba la edad de nuestro hidalgo con los cincuenta años; era de\\ncomplexión recia, seco de carnes, enjuto de rostro, gran madrugador y amigo\\nde la caza. Quieren decir que tenía el sobrenombre de Quijada, o Quesada,\\nque en esto hay alguna diferencia en los autores que deste caso escriben;\\naunque, por conjeturas verosímiles, se deja entender que se llamaba\\nQuejana. Pero esto importa poco a nuestro cuento; basta que en la narración\\ndél no se salga un punto de la verdad.\\n\\nEs, pues, de saber que este sobredicho hidalgo, los ratos que estaba\\nocioso, que eran los más del año, se daba a leer libros de caballerías, con\\ntanta afición y gusto, que olvidó casi de todo punto el ejercicio de la\\ncaza, y aun la administración de su hacienda. Y llegó a tanto su curiosidad\\ny desatino en esto, que vendió muchas hanegas de tierra de sembradura para\\ncomprar libros de caballerías en que leer, y así, llevó a su casa todos\\ncuantos pudo haber dellos; y de todos, ningunos le parecían tan bien como\\nlos que compuso el famoso Feliciano de Silva, porque la claridad de su\\nprosa y aquellas entricadas razones suyas le parecían de perlas, y más\\ncuando llegaba a leer aquellos requiebros y cartas de desafíos, donde en\\nmuchas partes hallaba escrito: La razón de la sinrazón que a mi razón se\\nhace, de tal manera mi razón enflaquece, que con razón me quejo de la\\nvuestra fermosura. Y también cuando leía: ...los altos cielos que de\\nvuestra divinidad divinamente con las estrellas os fortifican, y os hacen\\nmerecedora del merecimiento que merece la vuestra grandeza.\\n\\nCon estas razones perdía el pobre caballero el juicio, y desvelábase por\\nentenderlas y desentrañarles el sentido, que no se lo sacara ni las\\nentendiera el mesmo Aristóteles, si resucitara para sólo ello. No estaba\\nmuy bien con las heridas que don Belianís daba y recebía, porque se\\nimaginaba que, por grandes maestros que le hubiesen curado, no dejaría de\\ntener el rostro y todo el cuerpo lleno de cicatrices y señales. Pero, con\\ntodo, alababa en su autor aquel acabar su libro con la promesa de aquella\\ninacabable aventura, y muchas veces le vino deseo de tomar la pluma y dalle\\nfin al pie de la letra, como allí se promete; y sin duda alguna lo hiciera,\\ny aun saliera con ello, si otros mayores y continuos pensamientos no se lo\\nestorbaran. Tuvo muchas veces competencia con el cura de su lugar -que era\\nhombre docto, graduado en Sigüenza-, sobre cuál había sido mejor caballero:\\nPalmerín de Ingalaterra o Amadís de Gaula; mas maese Nicolás, barbero del\\nmesmo pueblo, decía que ninguno llegaba al Caballero del Febo, y que si\\nalguno se le podía comparar, era don Galaor, hermano de Amadís de Gaula,\\nporque tenía muy acomodada condición para todo; que no era caballero\\nmelindroso, ni tan llorón como su hermano, y que en lo de la valentía no le\\niba en zaga.\\n\\nEn resolución, él se enfrascó tanto en su letura, que se le pasaban las\\nnoches leyendo de claro en claro, y los días de turbio en turbio; y así,\\ndel poco dormir y del mucho leer, se le secó el celebro, de manera que vino\\na perder el juicio. Llenósele la fantasía de todo aquello que leía en los\\nlibros, así de encantamentos como de pendencias, batallas, desafíos,\\nheridas, requiebros, amores, tormentas y disparates imposibles; y\\nasentósele de tal modo en la imaginación que era verdad toda aquella\\nmáquina de aquellas sonadas soñadas invenciones que leía, que para él no\\nhabía otra historia más cierta en el mundo. Decía él que el Cid Ruy Díaz\\nhabía sido muy buen caballero, pero que no tenía que ver con el Caballero\\nde la Ardiente Espada, que de sólo un revés había partido por medio dos\\nfieros y descomunales gigantes. Mejor estaba con Bernardo del Carpio,\\nporque en Roncesvalles había muerto a Roldán el encantado, valiéndose de la\\nindustria de Hércules, cuando ahogó a Anteo, el hijo de la Tierra, entre\\nlos brazos. Decía mucho bien del gigante Morgante, porque, con ser de\\naquella generación gigantea, que todos son soberbios y descomedidos, él\\nsolo era afable y bien criado. Pero, sobre todos, estaba bien con Reinaldos\\nde Montalbán, y más cuando le veía salir de su castillo y robar cuantos\\ntopaba, y cuando en allende robó aquel ídolo de Mahoma que era todo de oro,\\nsegún dice su historia. Diera él, por dar una mano de coces al traidor de\\nGalalón, al ama que tenía, y aun a su sobrina de añadidura.\\n\\nEn efeto, rematado ya su juicio, vino a dar en el más estraño pensamiento\\nque jamás dio loco en el mundo; y fue que le pareció convenible y\\nnecesario, así para el aumento de su honra como para el servicio de su\\nrepública, hacerse caballero andante, y irse por todo el mundo con sus\\narmas y caballo a buscar las aventuras y a ejercitarse en todo aquello que\\nél había leído que los caballeros andantes se ejercitaban, deshaciendo todo\\ngénero de agravio, y poniéndose en ocasiones y peligros donde, acabándolos,\\ncobrase eterno nombre y fama. Imaginábase el pobre ya coronado por el valor\\nde su brazo, por lo menos, del imperio de Trapisonda; y así, con estos tan\\nagradables pensamientos, llevado del estraño gusto que en ellos sentía, se\\ndio priesa a poner en efeto lo que deseaba.\\n\\nY lo primero que hizo fue limpiar unas armas que habían sido de sus\\nbisabuelos, que, tomadas de orín y llenas de moho, luengos siglos había que\\nestaban puestas y olvidadas en un rincón. Limpiólas y aderezólas lo mejor\\nque pudo, pero vio que tenían una gran falta, y era que no tenían celada de\\nencaje, sino morrión simple; mas a esto suplió su industria, porque de\\ncartones hizo un modo de media celada, que, encajada con el morrión, hacían\\nuna apariencia de celada entera. Es verdad que para probar si era fuerte y\\npodía estar al riesgo de una cuchillada, sacó su espada y le dio dos\\ngolpes, y con el primero y en un punto deshizo lo que había hecho en una\\nsemana; y no dejó de parecerle mal la facilidad con que la había hecho\\npedazos, y, por asegurarse deste peligro, la tornó a hacer de nuevo,\\nponiéndole unas barras de hierro por de dentro, de tal manera que él quedó\\nsatisfecho de su fortaleza; y, sin querer hacer nueva experiencia della, la\\ndiputó y tuvo por celada finísima de encaje.'"
      ]
     },
     "execution_count": 149,
     "metadata": {},
     "output_type": "execute_result"
    }
   ],
   "source": [
    "input_file"
   ]
  },
  {
   "cell_type": "markdown",
   "metadata": {},
   "source": [
    "#### 2. Conteo del número de líneas del archivo"
   ]
  },
  {
   "cell_type": "code",
   "execution_count": 150,
   "metadata": {},
   "outputs": [
    {
     "name": "stdout",
     "output_type": "stream",
     "text": [
      "Number of lines: 101\n"
     ]
    }
   ],
   "source": [
    "all_lines = 1 + input_file.count('\\n')\n",
    "print(\"Number of lines: %d\" % all_lines)"
   ]
  },
  {
   "cell_type": "markdown",
   "metadata": {},
   "source": [
    "#### 3. Ocurrencias del artículo 'el'"
   ]
  },
  {
   "cell_type": "code",
   "execution_count": 151,
   "metadata": {},
   "outputs": [
    {
     "name": "stdout",
     "output_type": "stream",
     "text": [
      "Number of lines: 28\n"
     ]
    }
   ],
   "source": [
    "el_ements = input_file.lower().count(' el ')\n",
    "print(\"Number of lines: %d\" % el_ements)"
   ]
  },
  {
   "cell_type": "markdown",
   "metadata": {},
   "source": [
    "#### 4. Eliminar las tildes y convertir todas las letras a minúscula"
   ]
  },
  {
   "cell_type": "code",
   "execution_count": 152,
   "metadata": {},
   "outputs": [],
   "source": [
    "result = input_file.lower().replace('á', 'a').replace('é', 'e').replace('í',\n",
    "                                                                        'i').replace('ó',\n",
    "                                                                                     'o').replace('ú', 'u')"
   ]
  },
  {
   "cell_type": "code",
   "execution_count": 153,
   "metadata": {},
   "outputs": [
    {
     "data": {
      "text/plain": [
       "'en un lugar de la mancha, de cuyo nombre no quiero acordarme, no ha mucho\\ntiempo que vivia un hidalgo de los de lanza en astillero, adarga antigua,\\nrocin flaco y galgo corredor. una olla de algo mas vaca que carnero,\\nsalpicon las mas noches, duelos y quebrantos los sabados, lantejas los\\nviernes, algun palomino de añadidura los domingos, consumian las tres\\npartes de su hacienda. el resto della concluian sayo de velarte, calzas de\\nvelludo para las fiestas, con sus pantuflos de lo mesmo, y los dias de\\nentresemana se honraba con su vellori de lo mas fino. tenia en su casa una\\nama que pasaba de los cuarenta, y una sobrina que no llegaba a los veinte,\\ny un mozo de campo y plaza, que asi ensillaba el rocin como tomaba la\\npodadera. frisaba la edad de nuestro hidalgo con los cincuenta años; era de\\ncomplexion recia, seco de carnes, enjuto de rostro, gran madrugador y amigo\\nde la caza. quieren decir que tenia el sobrenombre de quijada, o quesada,\\nque en esto hay alguna diferencia en los autores que deste caso escriben;\\naunque, por conjeturas verosimiles, se deja entender que se llamaba\\nquejana. pero esto importa poco a nuestro cuento; basta que en la narracion\\ndel no se salga un punto de la verdad.\\n\\nes, pues, de saber que este sobredicho hidalgo, los ratos que estaba\\nocioso, que eran los mas del año, se daba a leer libros de caballerias, con\\ntanta aficion y gusto, que olvido casi de todo punto el ejercicio de la\\ncaza, y aun la administracion de su hacienda. y llego a tanto su curiosidad\\ny desatino en esto, que vendio muchas hanegas de tierra de sembradura para\\ncomprar libros de caballerias en que leer, y asi, llevo a su casa todos\\ncuantos pudo haber dellos; y de todos, ningunos le parecian tan bien como\\nlos que compuso el famoso feliciano de silva, porque la claridad de su\\nprosa y aquellas entricadas razones suyas le parecian de perlas, y mas\\ncuando llegaba a leer aquellos requiebros y cartas de desafios, donde en\\nmuchas partes hallaba escrito: la razon de la sinrazon que a mi razon se\\nhace, de tal manera mi razon enflaquece, que con razon me quejo de la\\nvuestra fermosura. y tambien cuando leia: ...los altos cielos que de\\nvuestra divinidad divinamente con las estrellas os fortifican, y os hacen\\nmerecedora del merecimiento que merece la vuestra grandeza.\\n\\ncon estas razones perdia el pobre caballero el juicio, y desvelabase por\\nentenderlas y desentrañarles el sentido, que no se lo sacara ni las\\nentendiera el mesmo aristoteles, si resucitara para solo ello. no estaba\\nmuy bien con las heridas que don belianis daba y recebia, porque se\\nimaginaba que, por grandes maestros que le hubiesen curado, no dejaria de\\ntener el rostro y todo el cuerpo lleno de cicatrices y señales. pero, con\\ntodo, alababa en su autor aquel acabar su libro con la promesa de aquella\\ninacabable aventura, y muchas veces le vino deseo de tomar la pluma y dalle\\nfin al pie de la letra, como alli se promete; y sin duda alguna lo hiciera,\\ny aun saliera con ello, si otros mayores y continuos pensamientos no se lo\\nestorbaran. tuvo muchas veces competencia con el cura de su lugar -que era\\nhombre docto, graduado en sigüenza-, sobre cual habia sido mejor caballero:\\npalmerin de ingalaterra o amadis de gaula; mas maese nicolas, barbero del\\nmesmo pueblo, decia que ninguno llegaba al caballero del febo, y que si\\nalguno se le podia comparar, era don galaor, hermano de amadis de gaula,\\nporque tenia muy acomodada condicion para todo; que no era caballero\\nmelindroso, ni tan lloron como su hermano, y que en lo de la valentia no le\\niba en zaga.\\n\\nen resolucion, el se enfrasco tanto en su letura, que se le pasaban las\\nnoches leyendo de claro en claro, y los dias de turbio en turbio; y asi,\\ndel poco dormir y del mucho leer, se le seco el celebro, de manera que vino\\na perder el juicio. llenosele la fantasia de todo aquello que leia en los\\nlibros, asi de encantamentos como de pendencias, batallas, desafios,\\nheridas, requiebros, amores, tormentas y disparates imposibles; y\\nasentosele de tal modo en la imaginacion que era verdad toda aquella\\nmaquina de aquellas sonadas soñadas invenciones que leia, que para el no\\nhabia otra historia mas cierta en el mundo. decia el que el cid ruy diaz\\nhabia sido muy buen caballero, pero que no tenia que ver con el caballero\\nde la ardiente espada, que de solo un reves habia partido por medio dos\\nfieros y descomunales gigantes. mejor estaba con bernardo del carpio,\\nporque en roncesvalles habia muerto a roldan el encantado, valiendose de la\\nindustria de hercules, cuando ahogo a anteo, el hijo de la tierra, entre\\nlos brazos. decia mucho bien del gigante morgante, porque, con ser de\\naquella generacion gigantea, que todos son soberbios y descomedidos, el\\nsolo era afable y bien criado. pero, sobre todos, estaba bien con reinaldos\\nde montalban, y mas cuando le veia salir de su castillo y robar cuantos\\ntopaba, y cuando en allende robo aquel idolo de mahoma que era todo de oro,\\nsegun dice su historia. diera el, por dar una mano de coces al traidor de\\ngalalon, al ama que tenia, y aun a su sobrina de añadidura.\\n\\nen efeto, rematado ya su juicio, vino a dar en el mas estraño pensamiento\\nque jamas dio loco en el mundo; y fue que le parecio convenible y\\nnecesario, asi para el aumento de su honra como para el servicio de su\\nrepublica, hacerse caballero andante, y irse por todo el mundo con sus\\narmas y caballo a buscar las aventuras y a ejercitarse en todo aquello que\\nel habia leido que los caballeros andantes se ejercitaban, deshaciendo todo\\ngenero de agravio, y poniendose en ocasiones y peligros donde, acabandolos,\\ncobrase eterno nombre y fama. imaginabase el pobre ya coronado por el valor\\nde su brazo, por lo menos, del imperio de trapisonda; y asi, con estos tan\\nagradables pensamientos, llevado del estraño gusto que en ellos sentia, se\\ndio priesa a poner en efeto lo que deseaba.\\n\\ny lo primero que hizo fue limpiar unas armas que habian sido de sus\\nbisabuelos, que, tomadas de orin y llenas de moho, luengos siglos habia que\\nestaban puestas y olvidadas en un rincon. limpiolas y aderezolas lo mejor\\nque pudo, pero vio que tenian una gran falta, y era que no tenian celada de\\nencaje, sino morrion simple; mas a esto suplio su industria, porque de\\ncartones hizo un modo de media celada, que, encajada con el morrion, hacian\\nuna apariencia de celada entera. es verdad que para probar si era fuerte y\\npodia estar al riesgo de una cuchillada, saco su espada y le dio dos\\ngolpes, y con el primero y en un punto deshizo lo que habia hecho en una\\nsemana; y no dejo de parecerle mal la facilidad con que la habia hecho\\npedazos, y, por asegurarse deste peligro, la torno a hacer de nuevo,\\nponiendole unas barras de hierro por de dentro, de tal manera que el quedo\\nsatisfecho de su fortaleza; y, sin querer hacer nueva experiencia della, la\\ndiputo y tuvo por celada finisima de encaje.'"
      ]
     },
     "execution_count": 153,
     "metadata": {},
     "output_type": "execute_result"
    }
   ],
   "source": [
    "result"
   ]
  },
  {
   "cell_type": "markdown",
   "metadata": {},
   "source": [
    "#### 5. Crear fichero de resultado"
   ]
  },
  {
   "cell_type": "code",
   "execution_count": 154,
   "metadata": {},
   "outputs": [
    {
     "data": {
      "text/plain": [
       "6828"
      ]
     },
     "execution_count": 154,
     "metadata": {},
     "output_type": "execute_result"
    }
   ],
   "source": [
    "res = open('resultado.txt', 'w')\n",
    "res.write('{}\\n'.format(all_lines))\n",
    "res.write('{}\\n'.format(el_ements))\n",
    "res.write(result)"
   ]
  },
  {
   "cell_type": "code",
   "execution_count": 155,
   "metadata": {},
   "outputs": [],
   "source": [
    "open_file.close()\n",
    "res.close()"
   ]
  },
  {
   "cell_type": "markdown",
   "metadata": {},
   "source": [
    "### Parte II: Trabajo con Pandas y Numpy"
   ]
  },
  {
   "cell_type": "code",
   "execution_count": 166,
   "metadata": {},
   "outputs": [],
   "source": [
    "pob = pd.read_csv(\"inputs/poblacionMunicipios.csv\")"
   ]
  },
  {
   "cell_type": "code",
   "execution_count": 167,
   "metadata": {},
   "outputs": [
    {
     "data": {
      "text/html": [
       "<div>\n",
       "<style scoped>\n",
       "    .dataframe tbody tr th:only-of-type {\n",
       "        vertical-align: middle;\n",
       "    }\n",
       "\n",
       "    .dataframe tbody tr th {\n",
       "        vertical-align: top;\n",
       "    }\n",
       "\n",
       "    .dataframe thead th {\n",
       "        text-align: right;\n",
       "    }\n",
       "</style>\n",
       "<table border=\"1\" class=\"dataframe\">\n",
       "  <thead>\n",
       "    <tr style=\"text-align: right;\">\n",
       "      <th></th>\n",
       "      <th>CodProvincia</th>\n",
       "      <th>Provincia</th>\n",
       "      <th>CodMunicipio</th>\n",
       "      <th>Municipio</th>\n",
       "      <th>Poblacion</th>\n",
       "    </tr>\n",
       "  </thead>\n",
       "  <tbody>\n",
       "    <tr>\n",
       "      <th>0</th>\n",
       "      <td>1</td>\n",
       "      <td>Araba/Álava</td>\n",
       "      <td>1</td>\n",
       "      <td>Alegría-Dulantzi</td>\n",
       "      <td>2869</td>\n",
       "    </tr>\n",
       "    <tr>\n",
       "      <th>1</th>\n",
       "      <td>1</td>\n",
       "      <td>Araba/Álava</td>\n",
       "      <td>2</td>\n",
       "      <td>Amurrio</td>\n",
       "      <td>10114</td>\n",
       "    </tr>\n",
       "    <tr>\n",
       "      <th>2</th>\n",
       "      <td>1</td>\n",
       "      <td>Araba/Álava</td>\n",
       "      <td>3</td>\n",
       "      <td>Aramaio</td>\n",
       "      <td>1513</td>\n",
       "    </tr>\n",
       "    <tr>\n",
       "      <th>3</th>\n",
       "      <td>1</td>\n",
       "      <td>Araba/Álava</td>\n",
       "      <td>4</td>\n",
       "      <td>Artziniega</td>\n",
       "      <td>1861</td>\n",
       "    </tr>\n",
       "    <tr>\n",
       "      <th>4</th>\n",
       "      <td>1</td>\n",
       "      <td>Araba/Álava</td>\n",
       "      <td>6</td>\n",
       "      <td>Armiñón</td>\n",
       "      <td>231</td>\n",
       "    </tr>\n",
       "  </tbody>\n",
       "</table>\n",
       "</div>"
      ],
      "text/plain": [
       "   CodProvincia    Provincia  CodMunicipio         Municipio  Poblacion\n",
       "0             1  Araba/Álava             1  Alegría-Dulantzi       2869\n",
       "1             1  Araba/Álava             2           Amurrio      10114\n",
       "2             1  Araba/Álava             3           Aramaio       1513\n",
       "3             1  Araba/Álava             4        Artziniega       1861\n",
       "4             1  Araba/Álava             6           Armiñón        231"
      ]
     },
     "execution_count": 167,
     "metadata": {},
     "output_type": "execute_result"
    }
   ],
   "source": [
    "pob.head()"
   ]
  },
  {
   "cell_type": "code",
   "execution_count": 168,
   "metadata": {},
   "outputs": [
    {
     "data": {
      "text/plain": [
       "CodProvincia    8117\n",
       "Provincia       8117\n",
       "CodMunicipio    8117\n",
       "Municipio       8117\n",
       "Poblacion       8117\n",
       "dtype: int64"
      ]
     },
     "execution_count": 168,
     "metadata": {},
     "output_type": "execute_result"
    }
   ],
   "source": [
    "pob.count()"
   ]
  },
  {
   "cell_type": "code",
   "execution_count": 169,
   "metadata": {},
   "outputs": [],
   "source": [
    "pob = pob[pob['Poblacion']!=0]"
   ]
  },
  {
   "cell_type": "code",
   "execution_count": 170,
   "metadata": {},
   "outputs": [
    {
     "data": {
      "text/html": [
       "<div>\n",
       "<style scoped>\n",
       "    .dataframe tbody tr th:only-of-type {\n",
       "        vertical-align: middle;\n",
       "    }\n",
       "\n",
       "    .dataframe tbody tr th {\n",
       "        vertical-align: top;\n",
       "    }\n",
       "\n",
       "    .dataframe thead th {\n",
       "        text-align: right;\n",
       "    }\n",
       "</style>\n",
       "<table border=\"1\" class=\"dataframe\">\n",
       "  <thead>\n",
       "    <tr style=\"text-align: right;\">\n",
       "      <th></th>\n",
       "      <th>CodProvincia</th>\n",
       "      <th>Provincia</th>\n",
       "      <th>CodMunicipio</th>\n",
       "      <th>Municipio</th>\n",
       "      <th>Poblacion</th>\n",
       "    </tr>\n",
       "  </thead>\n",
       "  <tbody>\n",
       "    <tr>\n",
       "      <th>0</th>\n",
       "      <td>1</td>\n",
       "      <td>Araba/Álava</td>\n",
       "      <td>1</td>\n",
       "      <td>Alegría-Dulantzi</td>\n",
       "      <td>2869</td>\n",
       "    </tr>\n",
       "    <tr>\n",
       "      <th>1</th>\n",
       "      <td>1</td>\n",
       "      <td>Araba/Álava</td>\n",
       "      <td>2</td>\n",
       "      <td>Amurrio</td>\n",
       "      <td>10114</td>\n",
       "    </tr>\n",
       "    <tr>\n",
       "      <th>2</th>\n",
       "      <td>1</td>\n",
       "      <td>Araba/Álava</td>\n",
       "      <td>3</td>\n",
       "      <td>Aramaio</td>\n",
       "      <td>1513</td>\n",
       "    </tr>\n",
       "    <tr>\n",
       "      <th>3</th>\n",
       "      <td>1</td>\n",
       "      <td>Araba/Álava</td>\n",
       "      <td>4</td>\n",
       "      <td>Artziniega</td>\n",
       "      <td>1861</td>\n",
       "    </tr>\n",
       "    <tr>\n",
       "      <th>4</th>\n",
       "      <td>1</td>\n",
       "      <td>Araba/Álava</td>\n",
       "      <td>6</td>\n",
       "      <td>Armiñón</td>\n",
       "      <td>231</td>\n",
       "    </tr>\n",
       "  </tbody>\n",
       "</table>\n",
       "</div>"
      ],
      "text/plain": [
       "   CodProvincia    Provincia  CodMunicipio         Municipio  Poblacion\n",
       "0             1  Araba/Álava             1  Alegría-Dulantzi       2869\n",
       "1             1  Araba/Álava             2           Amurrio      10114\n",
       "2             1  Araba/Álava             3           Aramaio       1513\n",
       "3             1  Araba/Álava             4        Artziniega       1861\n",
       "4             1  Araba/Álava             6           Armiñón        231"
      ]
     },
     "execution_count": 170,
     "metadata": {},
     "output_type": "execute_result"
    }
   ],
   "source": [
    "pob.head()"
   ]
  },
  {
   "cell_type": "code",
   "execution_count": 171,
   "metadata": {},
   "outputs": [
    {
     "data": {
      "text/plain": [
       "CodProvincia    8116\n",
       "Provincia       8116\n",
       "CodMunicipio    8116\n",
       "Municipio       8116\n",
       "Poblacion       8116\n",
       "dtype: int64"
      ]
     },
     "execution_count": 171,
     "metadata": {},
     "output_type": "execute_result"
    }
   ],
   "source": [
    "pob.count()"
   ]
  },
  {
   "cell_type": "code",
   "execution_count": 173,
   "metadata": {},
   "outputs": [
    {
     "data": {
      "text/html": [
       "<div>\n",
       "<style scoped>\n",
       "    .dataframe tbody tr th:only-of-type {\n",
       "        vertical-align: middle;\n",
       "    }\n",
       "\n",
       "    .dataframe tbody tr th {\n",
       "        vertical-align: top;\n",
       "    }\n",
       "\n",
       "    .dataframe thead th {\n",
       "        text-align: right;\n",
       "    }\n",
       "</style>\n",
       "<table border=\"1\" class=\"dataframe\">\n",
       "  <thead>\n",
       "    <tr style=\"text-align: right;\">\n",
       "      <th></th>\n",
       "      <th>Poblacion</th>\n",
       "    </tr>\n",
       "    <tr>\n",
       "      <th>Municipio</th>\n",
       "      <th></th>\n",
       "    </tr>\n",
       "  </thead>\n",
       "  <tbody>\n",
       "    <tr>\n",
       "      <th>Ababuj</th>\n",
       "      <td>73</td>\n",
       "    </tr>\n",
       "    <tr>\n",
       "      <th>Abades</th>\n",
       "      <td>882</td>\n",
       "    </tr>\n",
       "    <tr>\n",
       "      <th>Abadiño</th>\n",
       "      <td>7385</td>\n",
       "    </tr>\n",
       "    <tr>\n",
       "      <th>Abadía</th>\n",
       "      <td>330</td>\n",
       "    </tr>\n",
       "    <tr>\n",
       "      <th>Abadín</th>\n",
       "      <td>2760</td>\n",
       "    </tr>\n",
       "    <tr>\n",
       "      <th>Abajas</th>\n",
       "      <td>29</td>\n",
       "    </tr>\n",
       "    <tr>\n",
       "      <th>Abaltzisketa</th>\n",
       "      <td>324</td>\n",
       "    </tr>\n",
       "    <tr>\n",
       "      <th>Abanilla</th>\n",
       "      <td>6569</td>\n",
       "    </tr>\n",
       "    <tr>\n",
       "      <th>Abanto</th>\n",
       "      <td>127</td>\n",
       "    </tr>\n",
       "    <tr>\n",
       "      <th>Abanto y Ciérvana-Abanto Zierbena</th>\n",
       "      <td>9708</td>\n",
       "    </tr>\n",
       "    <tr>\n",
       "      <th>Abarca de Campos</th>\n",
       "      <td>39</td>\n",
       "    </tr>\n",
       "    <tr>\n",
       "      <th>Abarán</th>\n",
       "      <td>13110</td>\n",
       "    </tr>\n",
       "    <tr>\n",
       "      <th>Abaurregaina/Abaurrea Alta</th>\n",
       "      <td>133</td>\n",
       "    </tr>\n",
       "    <tr>\n",
       "      <th>Abaurrepea/Abaurrea Baja</th>\n",
       "      <td>39</td>\n",
       "    </tr>\n",
       "    <tr>\n",
       "      <th>Abegondo</th>\n",
       "      <td>5709</td>\n",
       "    </tr>\n",
       "    <tr>\n",
       "      <th>Abejar</th>\n",
       "      <td>367</td>\n",
       "    </tr>\n",
       "    <tr>\n",
       "      <th>Abejuela</th>\n",
       "      <td>55</td>\n",
       "    </tr>\n",
       "    <tr>\n",
       "      <th>Abella de la Conca</th>\n",
       "      <td>174</td>\n",
       "    </tr>\n",
       "    <tr>\n",
       "      <th>Abengibre</th>\n",
       "      <td>888</td>\n",
       "    </tr>\n",
       "    <tr>\n",
       "      <th>Abenójar</th>\n",
       "      <td>1579</td>\n",
       "    </tr>\n",
       "    <tr>\n",
       "      <th>Aberin</th>\n",
       "      <td>392</td>\n",
       "    </tr>\n",
       "    <tr>\n",
       "      <th>Abertura</th>\n",
       "      <td>432</td>\n",
       "    </tr>\n",
       "    <tr>\n",
       "      <th>Abezames</th>\n",
       "      <td>78</td>\n",
       "    </tr>\n",
       "    <tr>\n",
       "      <th>Abia de la Obispalía</th>\n",
       "      <td>81</td>\n",
       "    </tr>\n",
       "    <tr>\n",
       "      <th>Abia de las Torres</th>\n",
       "      <td>180</td>\n",
       "    </tr>\n",
       "    <tr>\n",
       "      <th>Abiego</th>\n",
       "      <td>277</td>\n",
       "    </tr>\n",
       "    <tr>\n",
       "      <th>Abizanda</th>\n",
       "      <td>136</td>\n",
       "    </tr>\n",
       "    <tr>\n",
       "      <th>Abla</th>\n",
       "      <td>1465</td>\n",
       "    </tr>\n",
       "    <tr>\n",
       "      <th>Ablanque</th>\n",
       "      <td>100</td>\n",
       "    </tr>\n",
       "    <tr>\n",
       "      <th>Ablitas</th>\n",
       "      <td>2663</td>\n",
       "    </tr>\n",
       "    <tr>\n",
       "      <th>...</th>\n",
       "      <td>...</td>\n",
       "    </tr>\n",
       "    <tr>\n",
       "      <th>Zucaina</th>\n",
       "      <td>187</td>\n",
       "    </tr>\n",
       "    <tr>\n",
       "      <th>Zuera</th>\n",
       "      <td>7738</td>\n",
       "    </tr>\n",
       "    <tr>\n",
       "      <th>Zufre</th>\n",
       "      <td>918</td>\n",
       "    </tr>\n",
       "    <tr>\n",
       "      <th>Zugarramurdi</th>\n",
       "      <td>243</td>\n",
       "    </tr>\n",
       "    <tr>\n",
       "      <th>Zuheros</th>\n",
       "      <td>741</td>\n",
       "    </tr>\n",
       "    <tr>\n",
       "      <th>Zuia</th>\n",
       "      <td>2439</td>\n",
       "    </tr>\n",
       "    <tr>\n",
       "      <th>Zumaia</th>\n",
       "      <td>9581</td>\n",
       "    </tr>\n",
       "    <tr>\n",
       "      <th>Zumarraga</th>\n",
       "      <td>10024</td>\n",
       "    </tr>\n",
       "    <tr>\n",
       "      <th>Zurgena</th>\n",
       "      <td>3184</td>\n",
       "    </tr>\n",
       "    <tr>\n",
       "      <th>Zuñeda</th>\n",
       "      <td>61</td>\n",
       "    </tr>\n",
       "    <tr>\n",
       "      <th>Zújar</th>\n",
       "      <td>2989</td>\n",
       "    </tr>\n",
       "    <tr>\n",
       "      <th>Zúñiga</th>\n",
       "      <td>108</td>\n",
       "    </tr>\n",
       "    <tr>\n",
       "      <th>Àger</th>\n",
       "      <td>593</td>\n",
       "    </tr>\n",
       "    <tr>\n",
       "      <th>Ábalos</th>\n",
       "      <td>357</td>\n",
       "    </tr>\n",
       "    <tr>\n",
       "      <th>Ágreda</th>\n",
       "      <td>3177</td>\n",
       "    </tr>\n",
       "    <tr>\n",
       "      <th>Águilas</th>\n",
       "      <td>34828</td>\n",
       "    </tr>\n",
       "    <tr>\n",
       "      <th>Álamo, El</th>\n",
       "      <td>8701</td>\n",
       "    </tr>\n",
       "    <tr>\n",
       "      <th>Álora</th>\n",
       "      <td>13399</td>\n",
       "    </tr>\n",
       "    <tr>\n",
       "      <th>Árchez</th>\n",
       "      <td>476</td>\n",
       "    </tr>\n",
       "    <tr>\n",
       "      <th>Ávila</th>\n",
       "      <td>58915</td>\n",
       "    </tr>\n",
       "    <tr>\n",
       "      <th>Ènova, l'</th>\n",
       "      <td>974</td>\n",
       "    </tr>\n",
       "    <tr>\n",
       "      <th>Écija</th>\n",
       "      <td>40683</td>\n",
       "    </tr>\n",
       "    <tr>\n",
       "      <th>Épila</th>\n",
       "      <td>4746</td>\n",
       "    </tr>\n",
       "    <tr>\n",
       "      <th>Íscar</th>\n",
       "      <td>6844</td>\n",
       "    </tr>\n",
       "    <tr>\n",
       "      <th>Òdena</th>\n",
       "      <td>3580</td>\n",
       "    </tr>\n",
       "    <tr>\n",
       "      <th>Òrrius</th>\n",
       "      <td>651</td>\n",
       "    </tr>\n",
       "    <tr>\n",
       "      <th>Ólvega</th>\n",
       "      <td>3861</td>\n",
       "    </tr>\n",
       "    <tr>\n",
       "      <th>Órgiva</th>\n",
       "      <td>5772</td>\n",
       "    </tr>\n",
       "    <tr>\n",
       "      <th>Úbeda</th>\n",
       "      <td>35784</td>\n",
       "    </tr>\n",
       "    <tr>\n",
       "      <th>Úrbel del Castillo</th>\n",
       "      <td>92</td>\n",
       "    </tr>\n",
       "  </tbody>\n",
       "</table>\n",
       "<p>8099 rows × 1 columns</p>\n",
       "</div>"
      ],
      "text/plain": [
       "                                   Poblacion\n",
       "Municipio                                   \n",
       "Ababuj                                    73\n",
       "Abades                                   882\n",
       "Abadiño                                 7385\n",
       "Abadía                                   330\n",
       "Abadín                                  2760\n",
       "Abajas                                    29\n",
       "Abaltzisketa                             324\n",
       "Abanilla                                6569\n",
       "Abanto                                   127\n",
       "Abanto y Ciérvana-Abanto Zierbena       9708\n",
       "Abarca de Campos                          39\n",
       "Abarán                                 13110\n",
       "Abaurregaina/Abaurrea Alta               133\n",
       "Abaurrepea/Abaurrea Baja                  39\n",
       "Abegondo                                5709\n",
       "Abejar                                   367\n",
       "Abejuela                                  55\n",
       "Abella de la Conca                       174\n",
       "Abengibre                                888\n",
       "Abenójar                                1579\n",
       "Aberin                                   392\n",
       "Abertura                                 432\n",
       "Abezames                                  78\n",
       "Abia de la Obispalía                      81\n",
       "Abia de las Torres                       180\n",
       "Abiego                                   277\n",
       "Abizanda                                 136\n",
       "Abla                                    1465\n",
       "Ablanque                                 100\n",
       "Ablitas                                 2663\n",
       "...                                      ...\n",
       "Zucaina                                  187\n",
       "Zuera                                   7738\n",
       "Zufre                                    918\n",
       "Zugarramurdi                             243\n",
       "Zuheros                                  741\n",
       "Zuia                                    2439\n",
       "Zumaia                                  9581\n",
       "Zumarraga                              10024\n",
       "Zurgena                                 3184\n",
       "Zuñeda                                    61\n",
       "Zújar                                   2989\n",
       "Zúñiga                                   108\n",
       "Àger                                     593\n",
       "Ábalos                                   357\n",
       "Ágreda                                  3177\n",
       "Águilas                                34828\n",
       "Álamo, El                               8701\n",
       "Álora                                  13399\n",
       "Árchez                                   476\n",
       "Ávila                                  58915\n",
       "Ènova, l'                                974\n",
       "Écija                                  40683\n",
       "Épila                                   4746\n",
       "Íscar                                   6844\n",
       "Òdena                                   3580\n",
       "Òrrius                                   651\n",
       "Ólvega                                  3861\n",
       "Órgiva                                  5772\n",
       "Úbeda                                  35784\n",
       "Úrbel del Castillo                        92\n",
       "\n",
       "[8099 rows x 1 columns]"
      ]
     },
     "execution_count": 173,
     "metadata": {},
     "output_type": "execute_result"
    }
   ],
   "source": [
    "pob[['Municipio','Poblacion']].groupby(['Municipio']).sum()"
   ]
  },
  {
   "cell_type": "code",
   "execution_count": 194,
   "metadata": {},
   "outputs": [
    {
     "name": "stdout",
     "output_type": "stream",
     "text": [
      "Total population of all towns: 47265321\n"
     ]
    }
   ],
   "source": [
    "print(\"Total population of all towns: {}\".format(pob['Poblacion'].sum()))"
   ]
  },
  {
   "cell_type": "code",
   "execution_count": 195,
   "metadata": {},
   "outputs": [
    {
     "data": {
      "text/html": [
       "<div>\n",
       "<style scoped>\n",
       "    .dataframe tbody tr th:only-of-type {\n",
       "        vertical-align: middle;\n",
       "    }\n",
       "\n",
       "    .dataframe tbody tr th {\n",
       "        vertical-align: top;\n",
       "    }\n",
       "\n",
       "    .dataframe thead th {\n",
       "        text-align: right;\n",
       "    }\n",
       "</style>\n",
       "<table border=\"1\" class=\"dataframe\">\n",
       "  <thead>\n",
       "    <tr style=\"text-align: right;\">\n",
       "      <th></th>\n",
       "      <th>CodProvincia</th>\n",
       "      <th>Provincia</th>\n",
       "      <th>CodMunicipio</th>\n",
       "      <th>Municipio</th>\n",
       "      <th>Poblacion</th>\n",
       "    </tr>\n",
       "  </thead>\n",
       "  <tbody>\n",
       "    <tr>\n",
       "      <th>0</th>\n",
       "      <td>1</td>\n",
       "      <td>Araba/Álava</td>\n",
       "      <td>1</td>\n",
       "      <td>Alegría-Dulantzi</td>\n",
       "      <td>2869</td>\n",
       "    </tr>\n",
       "    <tr>\n",
       "      <th>1</th>\n",
       "      <td>1</td>\n",
       "      <td>Araba/Álava</td>\n",
       "      <td>2</td>\n",
       "      <td>Amurrio</td>\n",
       "      <td>10114</td>\n",
       "    </tr>\n",
       "    <tr>\n",
       "      <th>2</th>\n",
       "      <td>1</td>\n",
       "      <td>Araba/Álava</td>\n",
       "      <td>3</td>\n",
       "      <td>Aramaio</td>\n",
       "      <td>1513</td>\n",
       "    </tr>\n",
       "    <tr>\n",
       "      <th>3</th>\n",
       "      <td>1</td>\n",
       "      <td>Araba/Álava</td>\n",
       "      <td>4</td>\n",
       "      <td>Artziniega</td>\n",
       "      <td>1861</td>\n",
       "    </tr>\n",
       "    <tr>\n",
       "      <th>4</th>\n",
       "      <td>1</td>\n",
       "      <td>Araba/Álava</td>\n",
       "      <td>6</td>\n",
       "      <td>Armiñón</td>\n",
       "      <td>231</td>\n",
       "    </tr>\n",
       "  </tbody>\n",
       "</table>\n",
       "</div>"
      ],
      "text/plain": [
       "   CodProvincia    Provincia  CodMunicipio         Municipio  Poblacion\n",
       "0             1  Araba/Álava             1  Alegría-Dulantzi       2869\n",
       "1             1  Araba/Álava             2           Amurrio      10114\n",
       "2             1  Araba/Álava             3           Aramaio       1513\n",
       "3             1  Araba/Álava             4        Artziniega       1861\n",
       "4             1  Araba/Álava             6           Armiñón        231"
      ]
     },
     "execution_count": 195,
     "metadata": {},
     "output_type": "execute_result"
    }
   ],
   "source": [
    "pob.head()"
   ]
  },
  {
   "cell_type": "code",
   "execution_count": 198,
   "metadata": {},
   "outputs": [],
   "source": [
    "res_pob = pob[['Provincia', 'Poblacion', 'Municipio']].groupby('Provincia').agg(\n",
    "    ['sum', 'std', 'count']).reset_index()\n",
    "res_pob.columns = ['Provincia', 'TotalPob', 'Std', 'TotalProvs']\n"
   ]
  },
  {
   "cell_type": "code",
   "execution_count": 200,
   "metadata": {},
   "outputs": [
    {
     "data": {
      "text/html": [
       "<div>\n",
       "<style scoped>\n",
       "    .dataframe tbody tr th:only-of-type {\n",
       "        vertical-align: middle;\n",
       "    }\n",
       "\n",
       "    .dataframe tbody tr th {\n",
       "        vertical-align: top;\n",
       "    }\n",
       "\n",
       "    .dataframe thead th {\n",
       "        text-align: right;\n",
       "    }\n",
       "</style>\n",
       "<table border=\"1\" class=\"dataframe\">\n",
       "  <thead>\n",
       "    <tr style=\"text-align: right;\">\n",
       "      <th></th>\n",
       "      <th>Provincia</th>\n",
       "      <th>TotalPob</th>\n",
       "      <th>Std</th>\n",
       "      <th>TotalProvs</th>\n",
       "    </tr>\n",
       "  </thead>\n",
       "  <tbody>\n",
       "    <tr>\n",
       "      <th>0</th>\n",
       "      <td>Albacete</td>\n",
       "      <td>402837</td>\n",
       "      <td>18969.349858</td>\n",
       "      <td>87</td>\n",
       "    </tr>\n",
       "    <tr>\n",
       "      <th>1</th>\n",
       "      <td>Alicante/Alacant</td>\n",
       "      <td>1943910</td>\n",
       "      <td>36975.788257</td>\n",
       "      <td>141</td>\n",
       "    </tr>\n",
       "    <tr>\n",
       "      <th>2</th>\n",
       "      <td>Almería</td>\n",
       "      <td>704219</td>\n",
       "      <td>22487.718633</td>\n",
       "      <td>102</td>\n",
       "    </tr>\n",
       "    <tr>\n",
       "      <th>3</th>\n",
       "      <td>Araba/Álava</td>\n",
       "      <td>322557</td>\n",
       "      <td>33817.226014</td>\n",
       "      <td>51</td>\n",
       "    </tr>\n",
       "    <tr>\n",
       "      <th>4</th>\n",
       "      <td>Asturias</td>\n",
       "      <td>1077360</td>\n",
       "      <td>41147.126270</td>\n",
       "      <td>78</td>\n",
       "    </tr>\n",
       "  </tbody>\n",
       "</table>\n",
       "</div>"
      ],
      "text/plain": [
       "          Provincia  TotalPob           Std  TotalProvs\n",
       "0          Albacete    402837  18969.349858          87\n",
       "1  Alicante/Alacant   1943910  36975.788257         141\n",
       "2           Almería    704219  22487.718633         102\n",
       "3       Araba/Álava    322557  33817.226014          51\n",
       "4          Asturias   1077360  41147.126270          78"
      ]
     },
     "execution_count": 200,
     "metadata": {},
     "output_type": "execute_result"
    }
   ],
   "source": [
    "res_pob.head()"
   ]
  },
  {
   "cell_type": "code",
   "execution_count": null,
   "metadata": {},
   "outputs": [],
   "source": []
  }
 ],
 "metadata": {
  "kernelspec": {
   "display_name": "Python 3",
   "language": "python",
   "name": "python3"
  },
  "language_info": {
   "codemirror_mode": {
    "name": "ipython",
    "version": 3
   },
   "file_extension": ".py",
   "mimetype": "text/x-python",
   "name": "python",
   "nbconvert_exporter": "python",
   "pygments_lexer": "ipython3",
   "version": "3.5.2"
  }
 },
 "nbformat": 4,
 "nbformat_minor": 2
}
