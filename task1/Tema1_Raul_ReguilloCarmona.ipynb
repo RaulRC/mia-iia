{
 "cells": [
  {
   "cell_type": "markdown",
   "metadata": {},
   "source": [
    "### Investigación en Inteligencia Artificial\n",
    "#### Tarea Tema 1\n",
    "#### Raúl Reguillo Carmona\n",
    "\n",
    "En este cuaderno se van a llevar a cabo los ejercicios propuestos para el tema 1 de la asignatura Investigación en Inteligencia Artificial. Todos los puntos se han realizado con python 3. "
   ]
  },
  {
   "cell_type": "code",
   "execution_count": 1,
   "metadata": {},
   "outputs": [
    {
     "name": "stdout",
     "output_type": "stream",
     "text": [
      "3.5.2 (default, Nov 12 2018, 13:43:14) \n",
      "[GCC 5.4.0 20160609]\n"
     ]
    }
   ],
   "source": [
    "import sys\n",
    "print(sys.version)"
   ]
  },
  {
   "cell_type": "markdown",
   "metadata": {},
   "source": [
    "# 1. Least Common Multiple\n",
    "\n",
    "Se han desarrollado dos implementaciones para los puntos 1) y 2). Para el primero, el desarrollo se basará en la función ```primeFactors``` que descompondrá el número que reciba en factores primos, devolviendo una lista de dichos números. Se apoyará también en la función ```countItems``` para contar ocurrencias de factores primos (esto es, el exponente de cierto número primo) a la hora de calcular ```mcd``` y ```mcm```. Éstos se calcularán mediante el producto de factores comunes con menor exponente, para el caso del mcd, y el producto de factores comunes y no comunes de mayor exponente, en caso de mcm. \n",
    "\n",
    "Finalmente, se implementan también utilizando el algoritmo de Euclides, mucho más inmediato. \n"
   ]
  },
  {
   "cell_type": "markdown",
   "metadata": {},
   "source": [
    "### Prime Factors method"
   ]
  },
  {
   "cell_type": "code",
   "execution_count": 2,
   "metadata": {},
   "outputs": [],
   "source": [
    "def countItems(item, itemList):\n",
    "    \"\"\"\n",
    "    Auxiliar function to calculate how many times some item appears in some list\n",
    "    \n",
    "    :param item: Item to count inside list \n",
    "    :param itemList: List provided to find how many times Item appears in\n",
    "    :return: Number of times Item appears in itemList\n",
    "    \"\"\"\n",
    "    result = 0\n",
    "    for i in itemList:\n",
    "        if i == item:\n",
    "            result +=1\n",
    "    return result\n",
    "        "
   ]
  },
  {
   "cell_type": "code",
   "execution_count": 3,
   "metadata": {},
   "outputs": [
    {
     "name": "stdout",
     "output_type": "stream",
     "text": [
      "Number of times 2 appears in [1, 2, 2, 3, 4]: 2\n",
      "Number of times 7 appears in [1, 2, 2, 3, 4]: 0\n"
     ]
    }
   ],
   "source": [
    "item = 2\n",
    "itemList = [1,2,2,3,4]\n",
    "print(\"Number of times %d appears in %s: %d\" % (item, itemList,\n",
    "                                                countItems(item, itemList)))\n",
    "item = 7\n",
    "print(\"Number of times %d appears in %s: %d\" % (item, itemList,\n",
    "                                                countItems(item, itemList)))"
   ]
  },
  {
   "cell_type": "code",
   "execution_count": 4,
   "metadata": {},
   "outputs": [],
   "source": [
    "def primeFactors(a):\n",
    "    \"\"\"\n",
    "    Decompose a number in prime factors. Recursive.\n",
    "\n",
    "    :param a: Number to be decomposed in prime factors\n",
    "    :return: list of prime factors (e.g: a=12, result is [2, 2, 3, 1] = 2²*3 = 12)\n",
    "    \"\"\"\n",
    "    #Check number greater than 0\n",
    "    assert a > 0, \"Number should be greater than 0\"\n",
    "    result = []\n",
    "    factor = -1\n",
    "    #Base\n",
    "    if a == 1:\n",
    "        result.append(1)\n",
    "    else:\n",
    "        #Generate all possible candidates to divisor\n",
    "        divs = list(range(2, a+1))\n",
    "        i = 0\n",
    "        #Iterate until we find the first integer divisor\n",
    "        while a%divs[i] != 0:\n",
    "            i+=1\n",
    "        #First divisor is our factor\n",
    "        factor = divs[i]\n",
    "        #Store result and call recursively for the division of number and factor\n",
    "        result.append(factor)\n",
    "        result += primeFactors(int(a/factor))\n",
    "    return result "
   ]
  },
  {
   "cell_type": "code",
   "execution_count": 5,
   "metadata": {},
   "outputs": [
    {
     "name": "stdout",
     "output_type": "stream",
     "text": [
      "Factors of 13: [13, 1]\n",
      "Factors of 25: [5, 5, 1]\n",
      "Factors of 200: [2, 2, 2, 5, 5, 1]\n"
     ]
    }
   ],
   "source": [
    "item = 13\n",
    "print(\"Factors of %d: %s\" % (item, primeFactors(item)))\n",
    "item = 25\n",
    "print(\"Factors of %d: %s\" % (item, primeFactors(item)))\n",
    "item = 200\n",
    "print(\"Factors of %d: %s\" % (item, primeFactors(item)))"
   ]
  },
  {
   "cell_type": "code",
   "execution_count": 6,
   "metadata": {},
   "outputs": [],
   "source": [
    "def mcm(a,b):\n",
    "    \"\"\"\n",
    "    Calculates Least Common Multiple (mcm) of a and b\n",
    "    \n",
    "    :param a: First number to calculate Least Common Multiple\n",
    "    :param b: Second number to calculate Least Common Multiple\n",
    "    :return: Least Common Multiple of a and b\n",
    "    \"\"\"    \n",
    "    #Prime factors of a and b\n",
    "    factors_a = primeFactors(a)\n",
    "    factors_b = primeFactors(b)\n",
    "    result = 1\n",
    "    #Make a set of the union of the list, commons and non-commons factors\n",
    "    factors = list(set(factors_a + factors_b))\n",
    "    #all item in factors are multiplied\n",
    "    for item in factors:\n",
    "        # Using custom function to count the power of the prime number\n",
    "        itemsA = countItems(item,factors_a)\n",
    "        itemsB = countItems(item,factors_b)\n",
    "        #Commons and uncommons with the great power\n",
    "        result *= item ** (itemsA if itemsA > itemsB else itemsB)\n",
    "    return result"
   ]
  },
  {
   "cell_type": "code",
   "execution_count": 7,
   "metadata": {},
   "outputs": [
    {
     "name": "stdout",
     "output_type": "stream",
     "text": [
      "MCM of 56 and 38: 1064\n",
      "MCM of 45 and 13: 585\n",
      "MCM of 72 and 50: 1800\n"
     ]
    }
   ],
   "source": [
    "#Testing\n",
    "a = 56\n",
    "b = 38\n",
    "print(\"MCM of %d and %d: %d\" % (a, b, mcm(a,b)))\n",
    "a = 45\n",
    "b = 13\n",
    "print(\"MCM of %d and %d: %d\" % (a, b, mcm(a,b)))\n",
    "a = 72\n",
    "b = 50\n",
    "print(\"MCM of %d and %d: %d\" % (a, b, mcm(a,b)))"
   ]
  },
  {
   "cell_type": "markdown",
   "metadata": {},
   "source": [
    "# 2. Greatest Common Factor"
   ]
  },
  {
   "cell_type": "code",
   "execution_count": 8,
   "metadata": {},
   "outputs": [],
   "source": [
    "def mcd(a,b):\n",
    "    \"\"\"\n",
    "    Calculates the Greatest Common Factor (mcd) of a and b\n",
    "    \n",
    "    :param a: First number to calculate Greatest Common Factor\n",
    "    :param b: Second number to calculate Greatest Common Factor\n",
    "    :return: Greatest Common Factor of a, b\n",
    "    \"\"\"    \n",
    "    #Prime factors of a and b\n",
    "    factors_a = primeFactors(a)\n",
    "    factors_b = primeFactors(b)\n",
    "    result = 1\n",
    "    #Commons factor are the intersections of the sets from both lists\n",
    "    commons = list(set(factors_a).intersection(set(factors_b)))\n",
    "    for item in commons:\n",
    "        #Use here list.count(item) instead\n",
    "        itemsA = factors_a.count(item)\n",
    "        itemsB = factors_b.count(item)\n",
    "        #Exponent is the lower of the commons\n",
    "        result *= item ** (itemsA if itemsA < itemsB else itemsB)\n",
    "    return result"
   ]
  },
  {
   "cell_type": "code",
   "execution_count": 9,
   "metadata": {},
   "outputs": [
    {
     "name": "stdout",
     "output_type": "stream",
     "text": [
      "MCM of 48 and 60: 12\n",
      "MCM of 45 and 13: 1\n",
      "MCM of 72 and 50: 2\n"
     ]
    }
   ],
   "source": [
    "#Testing\n",
    "a = 48\n",
    "b = 60\n",
    "print(\"MCM of %d and %d: %d\" % (a, b, mcd(a,b)))\n",
    "a = 45\n",
    "b = 13\n",
    "print(\"MCM of %d and %d: %d\" % (a, b, mcd(a,b)))\n",
    "a = 72\n",
    "b = 50\n",
    "print(\"MCM of %d and %d: %d\" % (a, b, mcd(a,b)))"
   ]
  },
  {
   "cell_type": "code",
   "execution_count": 10,
   "metadata": {},
   "outputs": [
    {
     "data": {
      "text/plain": [
       "14"
      ]
     },
     "execution_count": 10,
     "metadata": {},
     "output_type": "execute_result"
    }
   ],
   "source": [
    "mcd(42, 56)"
   ]
  },
  {
   "cell_type": "code",
   "execution_count": 11,
   "metadata": {},
   "outputs": [
    {
     "data": {
      "text/plain": [
       "168"
      ]
     },
     "execution_count": 11,
     "metadata": {},
     "output_type": "execute_result"
    }
   ],
   "source": [
    "mcm(42, 56)"
   ]
  },
  {
   "cell_type": "markdown",
   "metadata": {},
   "source": [
    "## Alternative to 1. and 2. using Euclidean method"
   ]
  },
  {
   "cell_type": "code",
   "execution_count": 12,
   "metadata": {},
   "outputs": [],
   "source": [
    "def mcd(a, b):\n",
    "    \"\"\"\n",
    "    Calculates the Greatest Common Factor (mcd) of a and b\n",
    "    usign the Euclidean algorithm.\n",
    "    \n",
    "    :param a: First number to calculate Greatest Common Factor\n",
    "    :param b: Second number to calculate Greatest Common Factor\n",
    "    :return: Greatest Common Factor of a, b\n",
    "    \"\"\"       \n",
    "    result = -1\n",
    "    assert a > 0, \"Numbers should be greater than 0\"\n",
    "    assert b > 0, \"Numbers should be greater than 0\"\n",
    "    #First sort the arguments\n",
    "    if b > a:\n",
    "        a,b = b,a\n",
    "    #Base \n",
    "    if b == 1:\n",
    "        result = b\n",
    "    else:\n",
    "        #Pick the rest of the division\n",
    "        m = a % b\n",
    "        #then repeat for the minimun number and the rest of division until we reach 1\n",
    "        result = b if m == 0 else mcd(b, m)\n",
    "    return int(result)\n",
    "\n",
    "def mcm(a,b):\n",
    "    #Definition of mcm using mcd\n",
    "    return int(a * b / mcd(a,b))"
   ]
  },
  {
   "cell_type": "code",
   "execution_count": 13,
   "metadata": {},
   "outputs": [
    {
     "data": {
      "text/plain": [
       "14"
      ]
     },
     "execution_count": 13,
     "metadata": {},
     "output_type": "execute_result"
    }
   ],
   "source": [
    "mcd(56, 42)"
   ]
  },
  {
   "cell_type": "code",
   "execution_count": 14,
   "metadata": {},
   "outputs": [
    {
     "data": {
      "text/plain": [
       "168"
      ]
     },
     "execution_count": 14,
     "metadata": {},
     "output_type": "execute_result"
    }
   ],
   "source": [
    "mcm(56, 42)"
   ]
  },
  {
   "cell_type": "code",
   "execution_count": 15,
   "metadata": {},
   "outputs": [
    {
     "name": "stdout",
     "output_type": "stream",
     "text": [
      "MCM of 56 and 38: 1064\n",
      "MCM of 45 and 13: 585\n",
      "MCM of 72 and 50: 1800\n"
     ]
    }
   ],
   "source": [
    "a = 56\n",
    "b = 38\n",
    "print(\"MCM of %d and %d: %d\" % (a, b, mcm(a,b)))\n",
    "a = 45\n",
    "b = 13\n",
    "print(\"MCM of %d and %d: %d\" % (a, b, mcm(a,b)))\n",
    "a = 72\n",
    "b = 50\n",
    "print(\"MCM of %d and %d: %d\" % (a, b, mcm(a,b)))"
   ]
  },
  {
   "cell_type": "markdown",
   "metadata": {},
   "source": [
    "# 3. Pie Chart Matplotlib"
   ]
  },
  {
   "cell_type": "code",
   "execution_count": 16,
   "metadata": {},
   "outputs": [],
   "source": [
    "import matplotlib.pyplot as plt\n",
    "%matplotlib inline"
   ]
  },
  {
   "cell_type": "code",
   "execution_count": 17,
   "metadata": {},
   "outputs": [],
   "source": [
    "#Dummy function for random color\n",
    "import random\n",
    "r = lambda: random.randint(0,255)\n",
    "getRandomColor = lambda: '#%02X%02X%02X' % (r(),r(),r())"
   ]
  },
  {
   "cell_type": "code",
   "execution_count": 18,
   "metadata": {},
   "outputs": [
    {
     "data": {
      "image/png": "[encoded data removed]",
      "text/plain": [
       "<Figure size 576x576 with 2 Axes>"
      ]
     },
     "metadata": {},
     "output_type": "display_data"
    }
   ],
   "source": [
    "#Generate labels and data\n",
    "labels = ['Cat1', 'Cat2', 'Cat3', 'Cat4']\n",
    "data = [25, 30, 15, 30]\n",
    "#Generate list of random colors for representation\n",
    "colors = [getRandomColor() for x in range(4)]\n",
    "fig1, (ax1, ax2) = plt.subplots(2,1, figsize=(8,8))\n",
    "#Piechart with data, labels, percentage of the pie and color\n",
    "ax1.pie(data, labels=labels, autopct='%.1f%%', colors=colors)\n",
    "ax1.axis('equal')  \n",
    "\n",
    "#Try remarking some set?\n",
    "explode = [0.0, 0.0, 0.0, 1.0]\n",
    "ax2.pie(data, labels=labels, autopct='%.1f%%', explode=explode, colors=colors)\n",
    "ax2.axis('equal')\n",
    "\n",
    "plt.show()"
   ]
  },
  {
   "cell_type": "markdown",
   "metadata": {},
   "source": [
    "# 4. Scatterplot"
   ]
  },
  {
   "cell_type": "code",
   "execution_count": 19,
   "metadata": {},
   "outputs": [],
   "source": [
    "import numpy as np"
   ]
  },
  {
   "cell_type": "code",
   "execution_count": 20,
   "metadata": {},
   "outputs": [
    {
     "data": {
      "text/plain": [
       "<matplotlib.collections.PathCollection at 0x7f76018a26a0>"
      ]
     },
     "execution_count": 20,
     "metadata": {},
     "output_type": "execute_result"
    },
    {
     "data": {
      "image/png": "[encoded data removed]",
      "text/plain": [
       "<Figure size 432x288 with 1 Axes>"
      ]
     },
     "metadata": {},
     "output_type": "display_data"
    }
   ],
   "source": [
    "#Generate two random vectors of numbers\n",
    "x = np.random.rand(100)\n",
    "y = np.random.rand(100)\n",
    "#Plot them as x,y values\n",
    "figScatter, ax1 = plt.subplots(1,1)\n",
    "ax1.scatter(x,y)"
   ]
  },
  {
   "cell_type": "markdown",
   "metadata": {},
   "source": [
    "#### Utilidad de ScatterPlot\n",
    "\n",
    "Este tipo de gráfico es especialmente útil para ser utilizado en varias técnicas. Para análisis de regresión nos mostrará qué forma tiene la señal y el ruido y a primera vista podremos comprobar la bondad de nuestra aproximación. \n",
    "\n",
    "Por otro lado, en técnicas de análisis no supervisadas, podremos ver cómo se agrupan las observaciones o detectar anomalías. "
   ]
  },
  {
   "cell_type": "markdown",
   "metadata": {},
   "source": [
    "# 5. Subplots"
   ]
  },
  {
   "cell_type": "markdown",
   "metadata": {},
   "source": [
    "### Explicación subplots\n",
    "\n",
    "Para elaborar subplots, utilizaremos la función homónima pasándole por parámetro cuantas filas y columnas tendrá el diagrama final. Así, estableceremos una serie de variables (generalmente notadas como ax1..n) con el número de filas, tal y como sigue. \n",
    "\n",
    "En el ejemplo vemos una figura compuesta por cuatro, en dos filas de dos columnas. Los gráficos están vacíos en tanto aún no se ha pintado nada en cada \"hueco\". "
   ]
  },
  {
   "cell_type": "code",
   "execution_count": 21,
   "metadata": {},
   "outputs": [
    {
     "data": {
      "image/png": "[encoded data removed]",
      "text/plain": [
       "<Figure size 576x576 with 4 Axes>"
      ]
     },
     "metadata": {},
     "output_type": "display_data"
    }
   ],
   "source": [
    "fig, (ax1, ax2) = plt.subplots(2,2, figsize=(8,8))\n",
    "#Adjust space between subplots\n",
    "plt.subplots_adjust(hspace=0.5, wspace=0.5)"
   ]
  },
  {
   "cell_type": "markdown",
   "metadata": {},
   "source": [
    "Si mostramos qué pinta tiene uno de los ax, vemos que en efecto consta de dos gráficos:"
   ]
  },
  {
   "cell_type": "code",
   "execution_count": 22,
   "metadata": {},
   "outputs": [
    {
     "data": {
      "text/plain": [
       "array([<matplotlib.axes._subplots.AxesSubplot object at 0x7f760198c710>,\n",
       "       <matplotlib.axes._subplots.AxesSubplot object at 0x7f76019a4da0>],\n",
       "      dtype=object)"
      ]
     },
     "execution_count": 22,
     "metadata": {},
     "output_type": "execute_result"
    }
   ],
   "source": [
    "ax2"
   ]
  },
  {
   "cell_type": "markdown",
   "metadata": {},
   "source": [
    "A partir de este punto ya podemos pintar indicando el tipo de gráfico e indexando como lista. De esta manera podemos especificar para cada \"celda\" del subplot qué tipo de gráfica debe mostrar. "
   ]
  },
  {
   "cell_type": "code",
   "execution_count": 23,
   "metadata": {},
   "outputs": [
    {
     "data": {
      "text/plain": [
       "<matplotlib.collections.PathCollection at 0x7f76019ccfd0>"
      ]
     },
     "execution_count": 23,
     "metadata": {},
     "output_type": "execute_result"
    }
   ],
   "source": [
    "ax1[0].scatter(x,y, color=getRandomColor())"
   ]
  },
  {
   "cell_type": "code",
   "execution_count": 24,
   "metadata": {},
   "outputs": [
    {
     "data": {
      "image/png": "[encoded data removed]",
      "text/plain": [
       "<Figure size 576x576 with 4 Axes>"
      ]
     },
     "execution_count": 24,
     "metadata": {},
     "output_type": "execute_result"
    }
   ],
   "source": [
    "# show the graph until now... \n",
    "fig"
   ]
  },
  {
   "cell_type": "markdown",
   "metadata": {},
   "source": [
    "Siempre a través de la variable del gráfico global (fig) podemos mostrar el resultado hasta el momento. Podemos pintar ahora el diagrama por sectores del apartado anterior en la esquina opuesta al actual.  "
   ]
  },
  {
   "cell_type": "code",
   "execution_count": 25,
   "metadata": {},
   "outputs": [
    {
     "data": {
      "text/plain": [
       "([<matplotlib.patches.Wedge at 0x7f76019835f8>,\n",
       "  <matplotlib.patches.Wedge at 0x7f76019c16a0>,\n",
       "  <matplotlib.patches.Wedge at 0x7f7601959160>,\n",
       "  <matplotlib.patches.Wedge at 0x7f760192c668>],\n",
       " [Text(0.777817,0.777817,'Cat1'),\n",
       "  Text(-0.889919,0.646564,'Cat2'),\n",
       "  Text(-0.777817,-0.777818,'Cat3'),\n",
       "  Text(0.646564,-0.889919,'Cat4')],\n",
       " [Text(0.424264,0.424264,'25.0%'),\n",
       "  Text(-0.48541,0.352671,'30.0%'),\n",
       "  Text(-0.424264,-0.424264,'15.0%'),\n",
       "  Text(0.352671,-0.48541,'30.0%')])"
      ]
     },
     "execution_count": 25,
     "metadata": {},
     "output_type": "execute_result"
    }
   ],
   "source": [
    "ax2[1].pie(data, labels=labels, autopct='%.1f%%', colors=colors)"
   ]
  },
  {
   "cell_type": "code",
   "execution_count": 26,
   "metadata": {},
   "outputs": [
    {
     "data": {
      "image/png": "[encoded data removed]",
      "text/plain": [
       "<Figure size 576x576 with 4 Axes>"
      ]
     },
     "execution_count": 26,
     "metadata": {},
     "output_type": "execute_result"
    }
   ],
   "source": [
    "fig"
   ]
  },
  {
   "cell_type": "markdown",
   "metadata": {},
   "source": [
    "Se puede comprobar cómo los plots son independientes al tipo de gráfico que se pinte en cada uno de ellos. A partir de este punto se generarán datos aleatorios para un par de gráficos en los huecos restantes. "
   ]
  },
  {
   "cell_type": "code",
   "execution_count": 27,
   "metadata": {},
   "outputs": [
    {
     "data": {
      "text/plain": [
       "[<matplotlib.lines.Line2D at 0x7f7603aac208>]"
      ]
     },
     "execution_count": 27,
     "metadata": {},
     "output_type": "execute_result"
    }
   ],
   "source": [
    "dat = np.sin(range(0,10))\n",
    "ax1[1].plot(dat, color=getRandomColor())"
   ]
  },
  {
   "cell_type": "code",
   "execution_count": 28,
   "metadata": {},
   "outputs": [
    {
     "data": {
      "image/png": "[encoded data removed]",
      "text/plain": [
       "<Figure size 576x576 with 4 Axes>"
      ]
     },
     "execution_count": 28,
     "metadata": {},
     "output_type": "execute_result"
    }
   ],
   "source": [
    "fig"
   ]
  },
  {
   "cell_type": "markdown",
   "metadata": {},
   "source": [
    "Finalmente, un gráfico en base a una función. Cabe destacar que los gráficos se pueden superponer entre sí (útil para regresiones). "
   ]
  },
  {
   "cell_type": "code",
   "execution_count": 29,
   "metadata": {},
   "outputs": [],
   "source": [
    "#First, generate data to plot usign dummy function\n",
    "f = lambda x: 2*x+1\n",
    "linDat = range(0, 10)\n",
    "linY = [f(x) for x in linDat ]\n",
    "\n",
    "scatter_x = range(0,10)\n",
    "scatter_y = np.random.rand(10)*10"
   ]
  },
  {
   "cell_type": "code",
   "execution_count": 30,
   "metadata": {},
   "outputs": [
    {
     "data": {
      "text/plain": [
       "[<matplotlib.lines.Line2D at 0x7f760195e550>]"
      ]
     },
     "execution_count": 30,
     "metadata": {},
     "output_type": "execute_result"
    }
   ],
   "source": [
    "#Plot in the chosen subplot\n",
    "#First, plot the scatter\n",
    "ax2[0].scatter(scatter_x,scatter_y, color=getRandomColor())\n",
    "#Finally, plot the line\n",
    "ax2[0].plot(linDat, linY, color=getRandomColor())"
   ]
  },
  {
   "cell_type": "code",
   "execution_count": 31,
   "metadata": {},
   "outputs": [
    {
     "data": {
      "image/png": "[encoded data removed]",
      "text/plain": [
       "<Figure size 576x576 with 4 Axes>"
      ]
     },
     "execution_count": 31,
     "metadata": {},
     "output_type": "execute_result"
    }
   ],
   "source": [
    "#Show figure\n",
    "fig"
   ]
  },
  {
   "cell_type": "markdown",
   "metadata": {},
   "source": [
    "Como conclusión, los subgráficos son realmente interesantes para agrupar visualizaciones que tengan relación entre sí. Su sencillez y utilidad los designan como una herramienta **imprescindible** a la hora de trabajar en ámbitos de Inteligencia Artificial. "
   ]
  }
 ],
 "metadata": {
  "kernelspec": {
   "display_name": "Python 3",
   "language": "python",
   "name": "python3"
  },
  "language_info": {
   "codemirror_mode": {
    "name": "ipython",
    "version": 3
   },
   "file_extension": ".py",
   "mimetype": "text/x-python",
   "name": "python",
   "nbconvert_exporter": "python",
   "pygments_lexer": "ipython3",
   "version": "3.5.2"
  }
 },
 "nbformat": 4,
 "nbformat_minor": 2
}
