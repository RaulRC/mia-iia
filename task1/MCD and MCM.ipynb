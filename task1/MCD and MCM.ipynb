{
 "cells": [
  {
   "cell_type": "markdown",
   "metadata": {},
   "source": [
    "### Prime Factors method"
   ]
  },
  {
   "cell_type": "code",
   "execution_count": 1,
   "metadata": {},
   "outputs": [],
   "source": [
    "def primeFactors(a):\n",
    "    assert a > 0, \"Number should be greater than 0\"\n",
    "    result = []\n",
    "    factor = -1\n",
    "    if a == 1:\n",
    "        result.append(1)\n",
    "    else:\n",
    "        divs = list(range(2, a+1))\n",
    "        i = 0\n",
    "        while a%divs[i] != 0:\n",
    "            i+=1\n",
    "        factor = divs[i]\n",
    "        result.append(factor)\n",
    "        result += primeFactors(int(a/factor))\n",
    "    return result "
   ]
  },
  {
   "cell_type": "code",
   "execution_count": 2,
   "metadata": {},
   "outputs": [
    {
     "data": {
      "text/plain": [
       "[2, 2, 3, 29, 1009, 1]"
      ]
     },
     "execution_count": 2,
     "metadata": {},
     "output_type": "execute_result"
    }
   ],
   "source": [
    "primeFactors(351132)"
   ]
  },
  {
   "cell_type": "code",
   "execution_count": 3,
   "metadata": {},
   "outputs": [],
   "source": [
    "def mcd(a,b):\n",
    "    fa = primeFactors(a)\n",
    "    fb = primeFactors(b)\n",
    "    result = 1\n",
    "    commons = list(set(fa).intersection(set(fb)))\n",
    "    for item in commons:\n",
    "        itemsA = fa.count(item)\n",
    "        itemsB = fb.count(item)\n",
    "        result *= item ** (itemsA if itemsA < itemsB else itemsB)\n",
    "    return result"
   ]
  },
  {
   "cell_type": "code",
   "execution_count": 16,
   "metadata": {},
   "outputs": [],
   "source": [
    "def mcm(a,b):\n",
    "    fa = primeFactors(a)\n",
    "    fb = primeFactors(b)\n",
    "    result = 1\n",
    "    factors = list(set(fa + fb))\n",
    "    for item in factors:\n",
    "        # Using custom function\n",
    "        itemsA = countItems(item,fa)\n",
    "        itemsB = countItems(item,fb)\n",
    "        result *= item ** (itemsA if itemsA > itemsB else itemsB)\n",
    "    return result"
   ]
  },
  {
   "cell_type": "code",
   "execution_count": 13,
   "metadata": {},
   "outputs": [],
   "source": [
    "def countItems(item, itemList):\n",
    "    result = 0\n",
    "    for i in itemList:\n",
    "        if i == item:\n",
    "            result +=1\n",
    "    return result\n",
    "        "
   ]
  },
  {
   "cell_type": "code",
   "execution_count": 14,
   "metadata": {},
   "outputs": [
    {
     "data": {
      "text/plain": [
       "14"
      ]
     },
     "execution_count": 14,
     "metadata": {},
     "output_type": "execute_result"
    }
   ],
   "source": [
    "mcd(42, 56)"
   ]
  },
  {
   "cell_type": "code",
   "execution_count": 15,
   "metadata": {},
   "outputs": [
    {
     "data": {
      "text/plain": [
       "168"
      ]
     },
     "execution_count": 15,
     "metadata": {},
     "output_type": "execute_result"
    }
   ],
   "source": [
    "mcm(42, 56)"
   ]
  },
  {
   "cell_type": "markdown",
   "metadata": {},
   "source": [
    "### Euclidean method"
   ]
  },
  {
   "cell_type": "code",
   "execution_count": 7,
   "metadata": {},
   "outputs": [],
   "source": [
    "def mcd(a, b):\n",
    "    result = -1\n",
    "    assert a > 0, \"Numbers should be greater than 0\"\n",
    "    assert b > 0, \"Numbers should be greater than 0\"\n",
    "    if b > a:\n",
    "        a,b = b,a\n",
    "    if b == 1:\n",
    "        result = b\n",
    "    else: \n",
    "        m = a % b\n",
    "        result = b if m == 0 else mcd(b, m)\n",
    "    return int(result)\n",
    "\n",
    "def mcm(a,b):\n",
    "    return int(a * b / mcd(a,b))"
   ]
  },
  {
   "cell_type": "code",
   "execution_count": 8,
   "metadata": {},
   "outputs": [
    {
     "data": {
      "text/plain": [
       "14"
      ]
     },
     "execution_count": 8,
     "metadata": {},
     "output_type": "execute_result"
    }
   ],
   "source": [
    "mcd(56, 42)"
   ]
  },
  {
   "cell_type": "code",
   "execution_count": 9,
   "metadata": {},
   "outputs": [
    {
     "data": {
      "text/plain": [
       "168"
      ]
     },
     "execution_count": 9,
     "metadata": {},
     "output_type": "execute_result"
    }
   ],
   "source": [
    "mcm(56, 42)"
   ]
  },
  {
   "cell_type": "code",
   "execution_count": null,
   "metadata": {},
   "outputs": [],
   "source": []
  }
 ],
 "metadata": {
  "kernelspec": {
   "display_name": "Python 3",
   "language": "python",
   "name": "python3"
  },
  "language_info": {
   "codemirror_mode": {
    "name": "ipython",
    "version": 3
   },
   "file_extension": ".py",
   "mimetype": "text/x-python",
   "name": "python",
   "nbconvert_exporter": "python",
   "pygments_lexer": "ipython3",
   "version": "3.5.2"
  }
 },
 "nbformat": 4,
 "nbformat_minor": 2
}
